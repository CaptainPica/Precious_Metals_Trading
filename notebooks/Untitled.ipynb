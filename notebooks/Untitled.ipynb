{
 "cells": [
  {
   "cell_type": "code",
   "execution_count": null,
   "metadata": {},
   "outputs": [],
   "source": [
    "from requests import get\n",
    "import pandas as pd\n",
    "from API_Keys import quandl\n",
    "import json\n",
    "import numpy as np\n",
    "import matplotlib.pyplot as plt\n",
    "from sklearn import tree"
   ]
  },
  {
   "cell_type": "code",
   "execution_count": null,
   "metadata": {},
   "outputs": [],
   "source": [
    "CMEgold_futures_url = f\"https://www.quandl.com/api/v3/datasets/CFTC/CHRIS/CME_GC.json?api_key={quandl}\"\n",
    "CMEsilver_futures_url = f\"https://www.quandl.com/api/v3/datasets/CHRIS/CHRIS/CME_SI.json?api_key={quandl}\"\n",
    "CMEpalladium_futures_url = f\"https://www.quandl.com/api/v3/datasets/CHRIS/CHRIS/CME_PA.json?api_key={quandl}\"\n",
    "CMEplatinum_futures_url = f\"https://www.quandl.com/api/v3/datasets/CHRIS/CHRIS/CME_PL.json?api_key={quandl}\"\n",
    "ICE_USD_futures_url = f\"https://www.quandl.com/api/v3/datasets/CHRIS/CHRIS/ICE_DX.json?api_key={quandl}\"\n",
    "ICE_ZAR_futures_url = f\"https://www.quandl.com/api/v3/datasets/CHRIS/ICE_ZR.json?api_key={quandl}\"\n",
    "CME_Irates_futures_url = f\"https://www.quandl.com/api/v3/datasets/CHRIS/CHRIS/CME_TY.json?api_key={quandl}\"\n",
    "SGX_EuroD_futures_url = f\"https://www.quandl.com/api/v3/datasets/CHRIS/CHRIS/SGX_ED.json?api_key={quandl}\"\n"
   ]
  },
  {
   "cell_type": "code",
   "execution_count": null,
   "metadata": {},
   "outputs": [],
   "source": [
    "cme_gold_futures = get(CMEgold_futures_url)\n",
    "cme_silver_futures = get(CMEsilver_futures_url)\n",
    "cme_palladium_futures = get(CMEpalladium_futures_url)\n",
    "cme_platinum_futures = get(CMEplatinum_futures_url)\n",
    "ice_usd_futures = get(ICE_USD_futures_url)\n",
    "ice_usdzar_futures = get(ICE_ZAR_futures_url)\n",
    "cme_irates_futures = get(ICE_ZAR_futures_url)\n",
    "sgx_eurodollar_futures = get(SGX_EuroD_futures_url)"
   ]
  },
  {
   "cell_type": "code",
   "execution_count": null,
   "metadata": {},
   "outputs": [],
   "source": [
    "cme_gold_futures = cme_gold_futures.json()\n",
    "cme_silver_futures = cme_silver_futures.json()\n",
    "cme_palladium_futures = cme_palladium_futures.json()\n",
    "cme_platinum_futures = cme_platinum_futures.json()\n",
    "ice_usd_futures = ice_usd_futures.json()\n",
    "ice_usdzar_futures = ice_usdzar_futures.json()\n",
    "cme_tenyear_futures = cme_tenyear_futures.json()\n",
    "sgx_eurodollar_futures = sgx_eurodollar_futures.json()"
   ]
  },
  {
   "cell_type": "code",
   "execution_count": null,
   "metadata": {},
   "outputs": [],
   "source": [
    "gold_df = pd.DataFrame(cme_gold_futures[\"dataset\"][\"data\"],columns=cme_gold_futures[\"dataset\"][\"column_names\"])\n",
    "silver_df = pd.DataFrame(cme_silver_futures[\"dataset\"][\"data\"],columns=cme_silver_futures[\"dataset\"][\"column_names\"])\n",
    "palladium_df = pd.DataFrame(cme_palladium_futures[\"dataset\"][\"data\"],columns=cme_palladium_futures[\"dataset\"][\"column_names\"])\n",
    "platinum_df = pd.DataFrame(cme_platinum_futures[\"dataset\"][\"data\"],columns=cme_platinum_futures[\"dataset\"][\"column_names\"])\n",
    "usd_df = pd.DataFrame(ice_usd_futures[\"dataset\"][\"data\"],columns=ice_usd_futures[\"dataset\"][\"column_names\"])\n",
    "usdzar_df = pd.DataFrame(ice_usdzar_futures[\"dataset\"][\"data\"],columns=ice_usdzar_futures[\"dataset\"][\"column_names\"])\n",
    "tenyear_df = pd.DataFrame(cme_tenyear_futures[\"dataset\"][\"data\"],columns=cme_tenyear_futures[\"dataset\"][\"column_names\"])\n",
    "eurodollar_df = pd.DataFrame(sgx_eurodollar_futures[\"dataset\"][\"data\"],columns=sgx_eurodollar_futures[\"dataset\"][\"column_names\"])\n"
   ]
  },
  {
   "cell_type": "code",
   "execution_count": null,
   "metadata": {},
   "outputs": [],
   "source": [
    "print(len(gold_df.index))\n",
    "print(len(silver_df.index))\n",
    "print(len(palladium_df.index))\n",
    "print(len(platinum_df.index))\n",
    "print(len(usd_df.index))\n",
    "print(len(usdzar_df.index))\n",
    "print(len(tenyear_df.index))\n",
    "print(len(eurodollar_df.index))"
   ]
  },
  {
   "cell_type": "code",
   "execution_count": null,
   "metadata": {},
   "outputs": [],
   "source": [
    "g_data = g_futures_df.merge(g_options_df, on = \"Date\", how = \"inner\")\n",
    "g_data = g_data[[\"Date\",\"Settle\",\"Open Interest\",\"Money Manager Longs\",\"Money Manager Shorts\"]]\n",
    "print(len(g_data.index))\n",
    "g_data.head()"
   ]
  }
 ],
 "metadata": {
  "kernelspec": {
   "display_name": "Python 3",
   "language": "python",
   "name": "python3"
  },
  "language_info": {
   "codemirror_mode": {
    "name": "ipython",
    "version": 3
   },
   "file_extension": ".py",
   "mimetype": "text/x-python",
   "name": "python",
   "nbconvert_exporter": "python",
   "pygments_lexer": "ipython3",
   "version": "3.7.1"
  }
 },
 "nbformat": 4,
 "nbformat_minor": 2
}
