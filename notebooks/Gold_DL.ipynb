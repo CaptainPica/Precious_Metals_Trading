{
 "cells": [
  {
   "cell_type": "code",
   "execution_count": 20,
   "metadata": {},
   "outputs": [],
   "source": [
    "import requests\n",
    "import json\n",
    "import pandas as pd\n",
    "import numpy as np\n",
    "import matplotlib.pyplot as plt\n",
    "from datetime import datetime\n",
    "from pandas import read_csv\n",
    "from sklearn.preprocessing import LabelEncoder\n",
    "from pandas import concat\n",
    "from sklearn.preprocessing import MinMaxScaler\n",
    "from sklearn.preprocessing import LabelEncoder\n",
    "from sklearn.metrics import mean_squared_error\n",
    "from keras.models import Sequential\n",
    "from keras.layers import Dense\n",
    "from keras.layers import LSTM\n",
    "from numpy import concatenate\n",
    "from pandas import DataFrame\n",
    "from math import sqrt\n",
    "from datetime import timedelta"
   ]
  },
  {
   "cell_type": "code",
   "execution_count": 2,
   "metadata": {},
   "outputs": [],
   "source": [
    "# The path to our CSV file\n",
    "file = \"../data/csv/Gold_Data.csv\"\n",
    "df = pd.read_csv(file)\n",
    "df.head()\n",
    "postfitdf = df"
   ]
  },
  {
   "cell_type": "code",
   "execution_count": 3,
   "metadata": {},
   "outputs": [],
   "source": [
    "#new = old.filter(['A','B','D'], axis=1)\n",
    "\n",
    "df1 = df.filter(['Date','Gold_Settle', 'Open Interest', 'Money Manager Shorts', 'Money Manager Longs', 'Producer/Merchant/Processor/User Longs', 'Producer/Merchant/Processor/User Shorts'], axis=1)"
   ]
  },
  {
   "cell_type": "code",
   "execution_count": 4,
   "metadata": {},
   "outputs": [],
   "source": [
    "#raw_data['Mycol'] =  pd.to_datetime(raw_data['Mycol'], format='%d%b%Y:%H:%M:%S.%f')\n",
    "\n",
    "df1['Date'] = pd.to_datetime(df1['Date'])\n",
    "df1.set_index('Date', inplace = True)"
   ]
  },
  {
   "cell_type": "code",
   "execution_count": 5,
   "metadata": {},
   "outputs": [
    {
     "data": {
      "text/html": [
       "<div>\n",
       "<style scoped>\n",
       "    .dataframe tbody tr th:only-of-type {\n",
       "        vertical-align: middle;\n",
       "    }\n",
       "\n",
       "    .dataframe tbody tr th {\n",
       "        vertical-align: top;\n",
       "    }\n",
       "\n",
       "    .dataframe thead th {\n",
       "        text-align: right;\n",
       "    }\n",
       "</style>\n",
       "<table border=\"1\" class=\"dataframe\">\n",
       "  <thead>\n",
       "    <tr style=\"text-align: right;\">\n",
       "      <th></th>\n",
       "      <th>Gold_Settle</th>\n",
       "      <th>Open Interest</th>\n",
       "      <th>Money Manager Shorts</th>\n",
       "      <th>Money Manager Longs</th>\n",
       "      <th>Producer/Merchant/Processor/User Longs</th>\n",
       "      <th>Producer/Merchant/Processor/User Shorts</th>\n",
       "    </tr>\n",
       "    <tr>\n",
       "      <th>Date</th>\n",
       "      <th></th>\n",
       "      <th></th>\n",
       "      <th></th>\n",
       "      <th></th>\n",
       "      <th></th>\n",
       "      <th></th>\n",
       "    </tr>\n",
       "  </thead>\n",
       "  <tbody>\n",
       "    <tr>\n",
       "      <th>2006-06-13</th>\n",
       "      <td>602.80</td>\n",
       "      <td>382474.0</td>\n",
       "      <td>30916.0</td>\n",
       "      <td>103211.0</td>\n",
       "      <td>42587.0</td>\n",
       "      <td>128892.0</td>\n",
       "    </tr>\n",
       "    <tr>\n",
       "      <th>2006-06-20</th>\n",
       "      <td>570.50</td>\n",
       "      <td>390281.0</td>\n",
       "      <td>30963.0</td>\n",
       "      <td>94632.0</td>\n",
       "      <td>47440.0</td>\n",
       "      <td>126992.0</td>\n",
       "    </tr>\n",
       "    <tr>\n",
       "      <th>2006-06-27</th>\n",
       "      <td>584.18</td>\n",
       "      <td>384321.0</td>\n",
       "      <td>32287.0</td>\n",
       "      <td>91042.0</td>\n",
       "      <td>48449.0</td>\n",
       "      <td>121890.0</td>\n",
       "    </tr>\n",
       "    <tr>\n",
       "      <th>2006-07-03</th>\n",
       "      <td>594.40</td>\n",
       "      <td>392868.0</td>\n",
       "      <td>30452.0</td>\n",
       "      <td>92545.0</td>\n",
       "      <td>48087.0</td>\n",
       "      <td>122568.0</td>\n",
       "    </tr>\n",
       "    <tr>\n",
       "      <th>2006-07-11</th>\n",
       "      <td>634.00</td>\n",
       "      <td>427008.0</td>\n",
       "      <td>27624.0</td>\n",
       "      <td>104213.0</td>\n",
       "      <td>54509.0</td>\n",
       "      <td>130618.0</td>\n",
       "    </tr>\n",
       "  </tbody>\n",
       "</table>\n",
       "</div>"
      ],
      "text/plain": [
       "            Gold_Settle  Open Interest  Money Manager Shorts  \\\n",
       "Date                                                           \n",
       "2006-06-13       602.80       382474.0               30916.0   \n",
       "2006-06-20       570.50       390281.0               30963.0   \n",
       "2006-06-27       584.18       384321.0               32287.0   \n",
       "2006-07-03       594.40       392868.0               30452.0   \n",
       "2006-07-11       634.00       427008.0               27624.0   \n",
       "\n",
       "            Money Manager Longs  Producer/Merchant/Processor/User Longs  \\\n",
       "Date                                                                      \n",
       "2006-06-13             103211.0                                 42587.0   \n",
       "2006-06-20              94632.0                                 47440.0   \n",
       "2006-06-27              91042.0                                 48449.0   \n",
       "2006-07-03              92545.0                                 48087.0   \n",
       "2006-07-11             104213.0                                 54509.0   \n",
       "\n",
       "            Producer/Merchant/Processor/User Shorts  \n",
       "Date                                                 \n",
       "2006-06-13                                 128892.0  \n",
       "2006-06-20                                 126992.0  \n",
       "2006-06-27                                 121890.0  \n",
       "2006-07-03                                 122568.0  \n",
       "2006-07-11                                 130618.0  "
      ]
     },
     "execution_count": 5,
     "metadata": {},
     "output_type": "execute_result"
    }
   ],
   "source": [
    "df1.head()"
   ]
  },
  {
   "cell_type": "code",
   "execution_count": 6,
   "metadata": {},
   "outputs": [
    {
     "data": {
      "text/html": [
       "<div>\n",
       "<style scoped>\n",
       "    .dataframe tbody tr th:only-of-type {\n",
       "        vertical-align: middle;\n",
       "    }\n",
       "\n",
       "    .dataframe tbody tr th {\n",
       "        vertical-align: top;\n",
       "    }\n",
       "\n",
       "    .dataframe thead th {\n",
       "        text-align: right;\n",
       "    }\n",
       "</style>\n",
       "<table border=\"1\" class=\"dataframe\">\n",
       "  <thead>\n",
       "    <tr style=\"text-align: right;\">\n",
       "      <th></th>\n",
       "      <th>Gold_Settle</th>\n",
       "      <th>Open Interest</th>\n",
       "      <th>Money Manager Shorts</th>\n",
       "      <th>Money Manager Longs</th>\n",
       "      <th>Producer/Merchant/Processor/User Longs</th>\n",
       "      <th>Producer/Merchant/Processor/User Shorts</th>\n",
       "    </tr>\n",
       "  </thead>\n",
       "  <tbody>\n",
       "    <tr>\n",
       "      <th>Gold_Settle</th>\n",
       "      <td>1.000000</td>\n",
       "      <td>0.713448</td>\n",
       "      <td>0.029547</td>\n",
       "      <td>0.345678</td>\n",
       "      <td>0.338226</td>\n",
       "      <td>0.324827</td>\n",
       "    </tr>\n",
       "    <tr>\n",
       "      <th>Open Interest</th>\n",
       "      <td>0.713448</td>\n",
       "      <td>1.000000</td>\n",
       "      <td>0.034981</td>\n",
       "      <td>0.657985</td>\n",
       "      <td>0.284606</td>\n",
       "      <td>0.408501</td>\n",
       "    </tr>\n",
       "    <tr>\n",
       "      <th>Money Manager Shorts</th>\n",
       "      <td>0.029547</td>\n",
       "      <td>0.034981</td>\n",
       "      <td>1.000000</td>\n",
       "      <td>-0.444338</td>\n",
       "      <td>-0.286264</td>\n",
       "      <td>-0.706906</td>\n",
       "    </tr>\n",
       "    <tr>\n",
       "      <th>Money Manager Longs</th>\n",
       "      <td>0.345678</td>\n",
       "      <td>0.657985</td>\n",
       "      <td>-0.444338</td>\n",
       "      <td>1.000000</td>\n",
       "      <td>-0.029830</td>\n",
       "      <td>0.619795</td>\n",
       "    </tr>\n",
       "    <tr>\n",
       "      <th>Producer/Merchant/Processor/User Longs</th>\n",
       "      <td>0.338226</td>\n",
       "      <td>0.284606</td>\n",
       "      <td>-0.286264</td>\n",
       "      <td>-0.029830</td>\n",
       "      <td>1.000000</td>\n",
       "      <td>0.454285</td>\n",
       "    </tr>\n",
       "    <tr>\n",
       "      <th>Producer/Merchant/Processor/User Shorts</th>\n",
       "      <td>0.324827</td>\n",
       "      <td>0.408501</td>\n",
       "      <td>-0.706906</td>\n",
       "      <td>0.619795</td>\n",
       "      <td>0.454285</td>\n",
       "      <td>1.000000</td>\n",
       "    </tr>\n",
       "  </tbody>\n",
       "</table>\n",
       "</div>"
      ],
      "text/plain": [
       "                                         Gold_Settle  Open Interest  \\\n",
       "Gold_Settle                                 1.000000       0.713448   \n",
       "Open Interest                               0.713448       1.000000   \n",
       "Money Manager Shorts                        0.029547       0.034981   \n",
       "Money Manager Longs                         0.345678       0.657985   \n",
       "Producer/Merchant/Processor/User Longs      0.338226       0.284606   \n",
       "Producer/Merchant/Processor/User Shorts     0.324827       0.408501   \n",
       "\n",
       "                                         Money Manager Shorts  \\\n",
       "Gold_Settle                                          0.029547   \n",
       "Open Interest                                        0.034981   \n",
       "Money Manager Shorts                                 1.000000   \n",
       "Money Manager Longs                                 -0.444338   \n",
       "Producer/Merchant/Processor/User Longs              -0.286264   \n",
       "Producer/Merchant/Processor/User Shorts             -0.706906   \n",
       "\n",
       "                                         Money Manager Longs  \\\n",
       "Gold_Settle                                         0.345678   \n",
       "Open Interest                                       0.657985   \n",
       "Money Manager Shorts                               -0.444338   \n",
       "Money Manager Longs                                 1.000000   \n",
       "Producer/Merchant/Processor/User Longs             -0.029830   \n",
       "Producer/Merchant/Processor/User Shorts             0.619795   \n",
       "\n",
       "                                         Producer/Merchant/Processor/User Longs  \\\n",
       "Gold_Settle                                                            0.338226   \n",
       "Open Interest                                                          0.284606   \n",
       "Money Manager Shorts                                                  -0.286264   \n",
       "Money Manager Longs                                                   -0.029830   \n",
       "Producer/Merchant/Processor/User Longs                                 1.000000   \n",
       "Producer/Merchant/Processor/User Shorts                                0.454285   \n",
       "\n",
       "                                         Producer/Merchant/Processor/User Shorts  \n",
       "Gold_Settle                                                             0.324827  \n",
       "Open Interest                                                           0.408501  \n",
       "Money Manager Shorts                                                   -0.706906  \n",
       "Money Manager Longs                                                     0.619795  \n",
       "Producer/Merchant/Processor/User Longs                                  0.454285  \n",
       "Producer/Merchant/Processor/User Shorts                                 1.000000  "
      ]
     },
     "execution_count": 6,
     "metadata": {},
     "output_type": "execute_result"
    }
   ],
   "source": [
    "df1.corr()"
   ]
  },
  {
   "cell_type": "code",
   "execution_count": 7,
   "metadata": {},
   "outputs": [
    {
     "data": {
      "image/png": "[encoded data removed]",
      "text/plain": [
       "<Figure size 432x288 with 6 Axes>"
      ]
     },
     "metadata": {
      "needs_background": "light"
     },
     "output_type": "display_data"
    }
   ],
   "source": [
    "from matplotlib import pyplot\n",
    "# load dataset\n",
    "#dataset = read_csv('pollution.csv', header=0, index_col=0)\n",
    "values = df1.values\n",
    "# specify columns to plot\n",
    "groups = [0, 1, 2, 3, 4, 5]\n",
    "i = 1\n",
    "# plot each column\n",
    "pyplot.figure()\n",
    "for group in groups:\n",
    "\tpyplot.subplot(len(groups), 1, i)\n",
    "\tpyplot.plot(values[:, group])\n",
    "\tpyplot.title(df1.columns[group], y=0.5, loc='right')\n",
    "\ti += 1\n",
    "pyplot.show()"
   ]
  },
  {
   "cell_type": "code",
   "execution_count": 8,
   "metadata": {},
   "outputs": [
    {
     "name": "stdout",
     "output_type": "stream",
     "text": [
      "   var1(t-1)  var2(t-1)  var3(t-1)  var4(t-1)  var5(t-1)  var6(t-1)   var1(t)\n",
      "1   0.025239   0.000000   0.158664   0.181376   0.110468   0.206973  0.000000\n",
      "2   0.000000   0.011063   0.158911   0.148317   0.149656   0.200634  0.010690\n",
      "3   0.010690   0.002617   0.165892   0.134482   0.157804   0.183612  0.018676\n",
      "4   0.018676   0.014729   0.156217   0.140274   0.154881   0.185874  0.049619\n",
      "5   0.049619   0.063109   0.141308   0.185238   0.206740   0.212732  0.062903\n"
     ]
    }
   ],
   "source": [
    "# convert series to supervised learning\n",
    "def series_to_supervised(data, n_in=1, n_out=1, dropnan=True):\n",
    "\tn_vars = 1 if type(data) is list else data.shape[1]\n",
    "\tdf = DataFrame(data)\n",
    "\tcols, names = list(), list()\n",
    "\t# input sequence (t-n, ... t-1)\n",
    "\tfor i in range(n_in, 0, -1):\n",
    "\t\tcols.append(df.shift(i))\n",
    "\t\tnames += [('var%d(t-%d)' % (j+1, i)) for j in range(n_vars)]\n",
    "\t# forecast sequence (t, t+1, ... t+n)\n",
    "\tfor i in range(0, n_out):\n",
    "\t\tcols.append(df.shift(-i))\n",
    "\t\tif i == 0:\n",
    "\t\t\tnames += [('var%d(t)' % (j+1)) for j in range(n_vars)]\n",
    "\t\telse:\n",
    "\t\t\tnames += [('var%d(t+%d)' % (j+1, i)) for j in range(n_vars)]\n",
    "\t# put it all together\n",
    "\tagg = concat(cols, axis=1)\n",
    "\tagg.columns = names\n",
    "\t# drop rows with NaN values\n",
    "\tif dropnan:\n",
    "\t\tagg.dropna(inplace=True)\n",
    "\treturn agg\n",
    " \n",
    "# load dataset\n",
    "#dataset = read_csv('pollution.csv', header=0, index_col=0)\n",
    "values = df1.values\n",
    "# integer encode direction\n",
    "#encoder = LabelEncoder()\n",
    "#values[:,4] = encoder.fit_transform(values[:,4])\n",
    "# ensure all data is float\n",
    "values = values.astype('float32')\n",
    "# normalize features\n",
    "scaler = MinMaxScaler(feature_range=(0, 1))\n",
    "scaled = scaler.fit_transform(values)\n",
    "# frame as supervised learning\n",
    "reframed = series_to_supervised(scaled, 1, 1)\n",
    "# drop columns we don't want to predict\n",
    "reframed.drop(reframed.columns[[7,8,9,10,11]], axis=1, inplace=True)\n",
    "print(reframed.head())"
   ]
  },
  {
   "cell_type": "code",
   "execution_count": 9,
   "metadata": {},
   "outputs": [
    {
     "name": "stdout",
     "output_type": "stream",
     "text": [
      "(513, 1, 6) (513,) (171, 1, 6) (171,)\n"
     ]
    }
   ],
   "source": [
    "\n",
    "# split into train and test sets\n",
    "values = reframed.values\n",
    "n_train_days = int(len(df1)*.75)\n",
    "train = values[:n_train_days, :]\n",
    "test = values[n_train_days:, :]\n",
    "# split into input and outputs\n",
    "train_X, train_y = train[:, :-1], train[:, -1]\n",
    "test_X, test_y = test[:, :-1], test[:, -1]\n",
    "# reshape input to be 3D [samples, timesteps, features]\n",
    "train_X = train_X.reshape((train_X.shape[0], 1, train_X.shape[1]))\n",
    "test_X = test_X.reshape((test_X.shape[0], 1, test_X.shape[1]))\n",
    "print(train_X.shape, train_y.shape, test_X.shape, test_y.shape)\n"
   ]
  },
  {
   "cell_type": "code",
   "execution_count": 10,
   "metadata": {},
   "outputs": [
    {
     "name": "stdout",
     "output_type": "stream",
     "text": [
      "WARNING:tensorflow:From C:\\Users\\benel\\Anaconda3\\lib\\site-packages\\tensorflow\\python\\framework\\op_def_library.py:263: colocate_with (from tensorflow.python.framework.ops) is deprecated and will be removed in a future version.\n",
      "Instructions for updating:\n",
      "Colocations handled automatically by placer.\n",
      "WARNING:tensorflow:From C:\\Users\\benel\\Anaconda3\\lib\\site-packages\\tensorflow\\python\\ops\\math_ops.py:3066: to_int32 (from tensorflow.python.ops.math_ops) is deprecated and will be removed in a future version.\n",
      "Instructions for updating:\n",
      "Use tf.cast instead.\n",
      "Train on 513 samples, validate on 171 samples\n",
      "Epoch 1/125\n",
      " - 2s - loss: 0.4083 - acc: 0.0019 - val_loss: 0.4226 - val_acc: 0.0000e+00\n",
      "Epoch 2/125\n",
      " - 0s - loss: 0.3282 - acc: 0.0019 - val_loss: 0.3349 - val_acc: 0.0000e+00\n",
      "Epoch 3/125\n",
      " - 0s - loss: 0.2633 - acc: 0.0019 - val_loss: 0.2485 - val_acc: 0.0000e+00\n",
      "Epoch 4/125\n",
      " - 0s - loss: 0.2068 - acc: 0.0039 - val_loss: 0.1640 - val_acc: 0.0000e+00\n",
      "Epoch 5/125\n",
      " - 0s - loss: 0.1698 - acc: 0.0039 - val_loss: 0.0935 - val_acc: 0.0000e+00\n",
      "Epoch 6/125\n",
      " - 0s - loss: 0.1528 - acc: 0.0039 - val_loss: 0.0542 - val_acc: 0.0000e+00\n",
      "Epoch 7/125\n",
      " - 0s - loss: 0.1455 - acc: 0.0039 - val_loss: 0.0452 - val_acc: 0.0000e+00\n",
      "Epoch 8/125\n",
      " - 0s - loss: 0.1443 - acc: 0.0039 - val_loss: 0.0463 - val_acc: 0.0000e+00\n",
      "Epoch 9/125\n",
      " - 0s - loss: 0.1436 - acc: 0.0039 - val_loss: 0.0467 - val_acc: 0.0000e+00\n",
      "Epoch 10/125\n",
      " - 0s - loss: 0.1415 - acc: 0.0039 - val_loss: 0.0458 - val_acc: 0.0000e+00\n",
      "Epoch 11/125\n",
      " - 0s - loss: 0.1386 - acc: 0.0039 - val_loss: 0.0450 - val_acc: 0.0000e+00\n",
      "Epoch 12/125\n",
      " - 0s - loss: 0.1355 - acc: 0.0039 - val_loss: 0.0445 - val_acc: 0.0000e+00\n",
      "Epoch 13/125\n",
      " - 0s - loss: 0.1324 - acc: 0.0039 - val_loss: 0.0443 - val_acc: 0.0000e+00\n",
      "Epoch 14/125\n",
      " - 0s - loss: 0.1293 - acc: 0.0039 - val_loss: 0.0442 - val_acc: 0.0000e+00\n",
      "Epoch 15/125\n",
      " - 0s - loss: 0.1262 - acc: 0.0039 - val_loss: 0.0442 - val_acc: 0.0000e+00\n",
      "Epoch 16/125\n",
      " - 0s - loss: 0.1230 - acc: 0.0039 - val_loss: 0.0444 - val_acc: 0.0000e+00\n",
      "Epoch 17/125\n",
      " - 0s - loss: 0.1201 - acc: 0.0039 - val_loss: 0.0445 - val_acc: 0.0000e+00\n",
      "Epoch 18/125\n",
      " - 0s - loss: 0.1172 - acc: 0.0039 - val_loss: 0.0445 - val_acc: 0.0000e+00\n",
      "Epoch 19/125\n",
      " - 0s - loss: 0.1140 - acc: 0.0039 - val_loss: 0.0446 - val_acc: 0.0000e+00\n",
      "Epoch 20/125\n",
      " - 0s - loss: 0.1107 - acc: 0.0039 - val_loss: 0.0448 - val_acc: 0.0000e+00\n",
      "Epoch 21/125\n",
      " - 0s - loss: 0.1074 - acc: 0.0039 - val_loss: 0.0449 - val_acc: 0.0000e+00\n",
      "Epoch 22/125\n",
      " - 0s - loss: 0.1041 - acc: 0.0039 - val_loss: 0.0451 - val_acc: 0.0000e+00\n",
      "Epoch 23/125\n",
      " - 0s - loss: 0.1007 - acc: 0.0039 - val_loss: 0.0453 - val_acc: 0.0000e+00\n",
      "Epoch 24/125\n",
      " - 0s - loss: 0.0973 - acc: 0.0039 - val_loss: 0.0454 - val_acc: 0.0000e+00\n",
      "Epoch 25/125\n",
      " - 0s - loss: 0.0939 - acc: 0.0039 - val_loss: 0.0454 - val_acc: 0.0000e+00\n",
      "Epoch 26/125\n",
      " - 0s - loss: 0.0903 - acc: 0.0039 - val_loss: 0.0454 - val_acc: 0.0000e+00\n",
      "Epoch 27/125\n",
      " - 0s - loss: 0.0866 - acc: 0.0039 - val_loss: 0.0454 - val_acc: 0.0000e+00\n",
      "Epoch 28/125\n",
      " - 0s - loss: 0.0832 - acc: 0.0039 - val_loss: 0.0453 - val_acc: 0.0000e+00\n",
      "Epoch 29/125\n",
      " - 0s - loss: 0.0795 - acc: 0.0039 - val_loss: 0.0451 - val_acc: 0.0000e+00\n",
      "Epoch 30/125\n",
      " - 0s - loss: 0.0759 - acc: 0.0039 - val_loss: 0.0450 - val_acc: 0.0000e+00\n",
      "Epoch 31/125\n",
      " - 0s - loss: 0.0728 - acc: 0.0039 - val_loss: 0.0447 - val_acc: 0.0000e+00\n",
      "Epoch 32/125\n",
      " - 0s - loss: 0.0698 - acc: 0.0039 - val_loss: 0.0442 - val_acc: 0.0000e+00\n",
      "Epoch 33/125\n",
      " - 0s - loss: 0.0663 - acc: 0.0039 - val_loss: 0.0439 - val_acc: 0.0000e+00\n",
      "Epoch 34/125\n",
      " - 0s - loss: 0.0631 - acc: 0.0039 - val_loss: 0.0436 - val_acc: 0.0000e+00\n",
      "Epoch 35/125\n",
      " - 0s - loss: 0.0599 - acc: 0.0039 - val_loss: 0.0434 - val_acc: 0.0000e+00\n",
      "Epoch 36/125\n",
      " - 0s - loss: 0.0570 - acc: 0.0039 - val_loss: 0.0427 - val_acc: 0.0000e+00\n",
      "Epoch 37/125\n",
      " - 0s - loss: 0.0536 - acc: 0.0039 - val_loss: 0.0426 - val_acc: 0.0000e+00\n",
      "Epoch 38/125\n",
      " - 0s - loss: 0.0506 - acc: 0.0039 - val_loss: 0.0416 - val_acc: 0.0000e+00\n",
      "Epoch 39/125\n",
      " - 0s - loss: 0.0473 - acc: 0.0039 - val_loss: 0.0413 - val_acc: 0.0000e+00\n",
      "Epoch 40/125\n",
      " - 0s - loss: 0.0444 - acc: 0.0039 - val_loss: 0.0409 - val_acc: 0.0000e+00\n",
      "Epoch 41/125\n",
      " - 0s - loss: 0.0414 - acc: 0.0039 - val_loss: 0.0402 - val_acc: 0.0000e+00\n",
      "Epoch 42/125\n",
      " - 0s - loss: 0.0385 - acc: 0.0039 - val_loss: 0.0395 - val_acc: 0.0000e+00\n",
      "Epoch 43/125\n",
      " - 0s - loss: 0.0357 - acc: 0.0039 - val_loss: 0.0388 - val_acc: 0.0000e+00\n",
      "Epoch 44/125\n",
      " - 0s - loss: 0.0331 - acc: 0.0039 - val_loss: 0.0388 - val_acc: 0.0000e+00\n",
      "Epoch 45/125\n",
      " - 0s - loss: 0.0308 - acc: 0.0039 - val_loss: 0.0383 - val_acc: 0.0000e+00\n",
      "Epoch 46/125\n",
      " - 0s - loss: 0.0287 - acc: 0.0039 - val_loss: 0.0371 - val_acc: 0.0000e+00\n",
      "Epoch 47/125\n",
      " - 0s - loss: 0.0268 - acc: 0.0039 - val_loss: 0.0356 - val_acc: 0.0000e+00\n",
      "Epoch 48/125\n",
      " - 0s - loss: 0.0252 - acc: 0.0039 - val_loss: 0.0346 - val_acc: 0.0000e+00\n",
      "Epoch 49/125\n",
      " - 0s - loss: 0.0237 - acc: 0.0039 - val_loss: 0.0330 - val_acc: 0.0000e+00\n",
      "Epoch 50/125\n",
      " - 0s - loss: 0.0223 - acc: 0.0039 - val_loss: 0.0314 - val_acc: 0.0000e+00\n",
      "Epoch 51/125\n",
      " - 0s - loss: 0.0212 - acc: 0.0039 - val_loss: 0.0293 - val_acc: 0.0000e+00\n",
      "Epoch 52/125\n",
      " - 0s - loss: 0.0202 - acc: 0.0039 - val_loss: 0.0288 - val_acc: 0.0000e+00\n",
      "Epoch 53/125\n",
      " - 0s - loss: 0.0196 - acc: 0.0039 - val_loss: 0.0285 - val_acc: 0.0000e+00\n",
      "Epoch 54/125\n",
      " - 0s - loss: 0.0191 - acc: 0.0039 - val_loss: 0.0268 - val_acc: 0.0000e+00\n",
      "Epoch 55/125\n",
      " - 0s - loss: 0.0186 - acc: 0.0039 - val_loss: 0.0246 - val_acc: 0.0000e+00\n",
      "Epoch 56/125\n",
      " - 0s - loss: 0.0184 - acc: 0.0039 - val_loss: 0.0239 - val_acc: 0.0000e+00\n",
      "Epoch 57/125\n",
      " - 0s - loss: 0.0183 - acc: 0.0039 - val_loss: 0.0250 - val_acc: 0.0000e+00\n",
      "Epoch 58/125\n",
      " - 0s - loss: 0.0182 - acc: 0.0039 - val_loss: 0.0214 - val_acc: 0.0000e+00\n",
      "Epoch 59/125\n",
      " - 0s - loss: 0.0178 - acc: 0.0039 - val_loss: 0.0216 - val_acc: 0.0000e+00\n",
      "Epoch 60/125\n",
      " - 0s - loss: 0.0179 - acc: 0.0039 - val_loss: 0.0218 - val_acc: 0.0000e+00\n",
      "Epoch 61/125\n",
      " - 0s - loss: 0.0178 - acc: 0.0039 - val_loss: 0.0229 - val_acc: 0.0000e+00\n",
      "Epoch 62/125\n",
      " - 0s - loss: 0.0178 - acc: 0.0039 - val_loss: 0.0197 - val_acc: 0.0000e+00\n",
      "Epoch 63/125\n",
      " - 0s - loss: 0.0175 - acc: 0.0039 - val_loss: 0.0185 - val_acc: 0.0000e+00\n",
      "Epoch 64/125\n",
      " - 0s - loss: 0.0177 - acc: 0.0039 - val_loss: 0.0222 - val_acc: 0.0000e+00\n",
      "Epoch 65/125\n",
      " - 0s - loss: 0.0176 - acc: 0.0039 - val_loss: 0.0211 - val_acc: 0.0000e+00\n",
      "Epoch 66/125\n",
      " - 0s - loss: 0.0174 - acc: 0.0039 - val_loss: 0.0180 - val_acc: 0.0000e+00\n",
      "Epoch 67/125\n",
      " - 0s - loss: 0.0174 - acc: 0.0039 - val_loss: 0.0203 - val_acc: 0.0000e+00\n",
      "Epoch 68/125\n",
      " - 0s - loss: 0.0174 - acc: 0.0039 - val_loss: 0.0201 - val_acc: 0.0000e+00\n",
      "Epoch 69/125\n",
      " - 0s - loss: 0.0172 - acc: 0.0039 - val_loss: 0.0192 - val_acc: 0.0000e+00\n",
      "Epoch 70/125\n",
      " - 0s - loss: 0.0171 - acc: 0.0039 - val_loss: 0.0195 - val_acc: 0.0000e+00\n",
      "Epoch 71/125\n",
      " - 0s - loss: 0.0171 - acc: 0.0039 - val_loss: 0.0185 - val_acc: 0.0000e+00\n",
      "Epoch 72/125\n",
      " - 0s - loss: 0.0171 - acc: 0.0039 - val_loss: 0.0201 - val_acc: 0.0000e+00\n",
      "Epoch 73/125\n",
      " - 0s - loss: 0.0170 - acc: 0.0039 - val_loss: 0.0188 - val_acc: 0.0000e+00\n",
      "Epoch 74/125\n",
      " - 0s - loss: 0.0169 - acc: 0.0039 - val_loss: 0.0196 - val_acc: 0.0000e+00\n",
      "Epoch 75/125\n",
      " - 0s - loss: 0.0169 - acc: 0.0039 - val_loss: 0.0184 - val_acc: 0.0000e+00\n",
      "Epoch 76/125\n",
      " - 0s - loss: 0.0168 - acc: 0.0039 - val_loss: 0.0194 - val_acc: 0.0000e+00\n",
      "Epoch 77/125\n",
      " - 0s - loss: 0.0168 - acc: 0.0039 - val_loss: 0.0192 - val_acc: 0.0000e+00\n",
      "Epoch 78/125\n",
      " - 0s - loss: 0.0167 - acc: 0.0039 - val_loss: 0.0185 - val_acc: 0.0000e+00\n",
      "Epoch 79/125\n",
      " - 0s - loss: 0.0166 - acc: 0.0039 - val_loss: 0.0175 - val_acc: 0.0000e+00\n",
      "Epoch 80/125\n",
      " - 0s - loss: 0.0168 - acc: 0.0039 - val_loss: 0.0197 - val_acc: 0.0000e+00\n",
      "Epoch 81/125\n",
      " - 0s - loss: 0.0168 - acc: 0.0039 - val_loss: 0.0210 - val_acc: 0.0000e+00\n",
      "Epoch 82/125\n",
      " - 0s - loss: 0.0168 - acc: 0.0039 - val_loss: 0.0170 - val_acc: 0.0000e+00\n",
      "Epoch 83/125\n",
      " - 0s - loss: 0.0165 - acc: 0.0039 - val_loss: 0.0159 - val_acc: 0.0000e+00\n",
      "Epoch 84/125\n",
      " - 0s - loss: 0.0171 - acc: 0.0039 - val_loss: 0.0181 - val_acc: 0.0000e+00\n",
      "Epoch 85/125\n",
      " - 0s - loss: 0.0175 - acc: 0.0039 - val_loss: 0.0253 - val_acc: 0.0000e+00\n",
      "Epoch 86/125\n",
      " - 0s - loss: 0.0199 - acc: 0.0039 - val_loss: 0.0134 - val_acc: 0.0000e+00\n"
     ]
    },
    {
     "name": "stdout",
     "output_type": "stream",
     "text": [
      "Epoch 87/125\n",
      " - 0s - loss: 0.0180 - acc: 0.0039 - val_loss: 0.0143 - val_acc: 0.0000e+00\n",
      "Epoch 88/125\n",
      " - 0s - loss: 0.0208 - acc: 0.0039 - val_loss: 0.0285 - val_acc: 0.0000e+00\n",
      "Epoch 89/125\n",
      " - 0s - loss: 0.0219 - acc: 0.0039 - val_loss: 0.0156 - val_acc: 0.0000e+00\n",
      "Epoch 90/125\n",
      " - 0s - loss: 0.0167 - acc: 0.0039 - val_loss: 0.0128 - val_acc: 0.0000e+00\n",
      "Epoch 91/125\n",
      " - 0s - loss: 0.0185 - acc: 0.0039 - val_loss: 0.0182 - val_acc: 0.0000e+00\n",
      "Epoch 92/125\n",
      " - 0s - loss: 0.0181 - acc: 0.0039 - val_loss: 0.0245 - val_acc: 0.0000e+00\n",
      "Epoch 93/125\n",
      " - 0s - loss: 0.0208 - acc: 0.0039 - val_loss: 0.0143 - val_acc: 0.0000e+00\n",
      "Epoch 94/125\n",
      " - 0s - loss: 0.0181 - acc: 0.0039 - val_loss: 0.0138 - val_acc: 0.0000e+00\n",
      "Epoch 95/125\n",
      " - 0s - loss: 0.0194 - acc: 0.0039 - val_loss: 0.0252 - val_acc: 0.0000e+00\n",
      "Epoch 96/125\n",
      " - 0s - loss: 0.0202 - acc: 0.0039 - val_loss: 0.0145 - val_acc: 0.0000e+00\n",
      "Epoch 97/125\n",
      " - 0s - loss: 0.0163 - acc: 0.0039 - val_loss: 0.0132 - val_acc: 0.0000e+00\n",
      "Epoch 98/125\n",
      " - 0s - loss: 0.0172 - acc: 0.0039 - val_loss: 0.0176 - val_acc: 0.0000e+00\n",
      "Epoch 99/125\n",
      " - 0s - loss: 0.0169 - acc: 0.0039 - val_loss: 0.0204 - val_acc: 0.0000e+00\n",
      "Epoch 100/125\n",
      " - 0s - loss: 0.0180 - acc: 0.0039 - val_loss: 0.0132 - val_acc: 0.0000e+00\n",
      "Epoch 101/125\n",
      " - 0s - loss: 0.0167 - acc: 0.0039 - val_loss: 0.0134 - val_acc: 0.0000e+00\n",
      "Epoch 102/125\n",
      " - 0s - loss: 0.0186 - acc: 0.0039 - val_loss: 0.0207 - val_acc: 0.0000e+00\n",
      "Epoch 103/125\n",
      " - 0s - loss: 0.0176 - acc: 0.0039 - val_loss: 0.0178 - val_acc: 0.0000e+00\n",
      "Epoch 104/125\n",
      " - 0s - loss: 0.0182 - acc: 0.0039 - val_loss: 0.0131 - val_acc: 0.0000e+00\n",
      "Epoch 105/125\n",
      " - 0s - loss: 0.0177 - acc: 0.0039 - val_loss: 0.0142 - val_acc: 0.0000e+00\n",
      "Epoch 106/125\n",
      " - 0s - loss: 0.0194 - acc: 0.0039 - val_loss: 0.0248 - val_acc: 0.0000e+00\n",
      "Epoch 107/125\n",
      " - 0s - loss: 0.0203 - acc: 0.0039 - val_loss: 0.0149 - val_acc: 0.0000e+00\n",
      "Epoch 108/125\n",
      " - 0s - loss: 0.0164 - acc: 0.0039 - val_loss: 0.0130 - val_acc: 0.0000e+00\n",
      "Epoch 109/125\n",
      " - 0s - loss: 0.0170 - acc: 0.0039 - val_loss: 0.0165 - val_acc: 0.0000e+00\n",
      "Epoch 110/125\n",
      " - 0s - loss: 0.0170 - acc: 0.0039 - val_loss: 0.0209 - val_acc: 0.0000e+00\n",
      "Epoch 111/125\n",
      " - 0s - loss: 0.0181 - acc: 0.0039 - val_loss: 0.0131 - val_acc: 0.0000e+00\n",
      "Epoch 112/125\n",
      " - 0s - loss: 0.0168 - acc: 0.0039 - val_loss: 0.0130 - val_acc: 0.0000e+00\n",
      "Epoch 113/125\n",
      " - 0s - loss: 0.0187 - acc: 0.0039 - val_loss: 0.0206 - val_acc: 0.0000e+00\n",
      "Epoch 114/125\n",
      " - 0s - loss: 0.0174 - acc: 0.0039 - val_loss: 0.0167 - val_acc: 0.0000e+00\n",
      "Epoch 115/125\n",
      " - 0s - loss: 0.0175 - acc: 0.0039 - val_loss: 0.0130 - val_acc: 0.0000e+00\n",
      "Epoch 116/125\n",
      " - 0s - loss: 0.0175 - acc: 0.0039 - val_loss: 0.0135 - val_acc: 0.0000e+00\n",
      "Epoch 117/125\n",
      " - 0s - loss: 0.0193 - acc: 0.0039 - val_loss: 0.0229 - val_acc: 0.0000e+00\n",
      "Epoch 118/125\n",
      " - 0s - loss: 0.0194 - acc: 0.0039 - val_loss: 0.0148 - val_acc: 0.0000e+00\n",
      "Epoch 119/125\n",
      " - 0s - loss: 0.0164 - acc: 0.0039 - val_loss: 0.0129 - val_acc: 0.0000e+00\n",
      "Epoch 120/125\n",
      " - 0s - loss: 0.0169 - acc: 0.0039 - val_loss: 0.0146 - val_acc: 0.0000e+00\n",
      "Epoch 121/125\n",
      " - 0s - loss: 0.0170 - acc: 0.0039 - val_loss: 0.0206 - val_acc: 0.0000e+00\n",
      "Epoch 122/125\n",
      " - 0s - loss: 0.0175 - acc: 0.0039 - val_loss: 0.0137 - val_acc: 0.0000e+00\n",
      "Epoch 123/125\n",
      " - 0s - loss: 0.0160 - acc: 0.0039 - val_loss: 0.0128 - val_acc: 0.0000e+00\n",
      "Epoch 124/125\n",
      " - 0s - loss: 0.0177 - acc: 0.0039 - val_loss: 0.0162 - val_acc: 0.0000e+00\n",
      "Epoch 125/125\n",
      " - 0s - loss: 0.0173 - acc: 0.0039 - val_loss: 0.0206 - val_acc: 0.0000e+00\n"
     ]
    },
    {
     "data": {
      "image/png": "[encoded data removed]",
      "text/plain": [
       "<Figure size 432x288 with 1 Axes>"
      ]
     },
     "metadata": {
      "needs_background": "light"
     },
     "output_type": "display_data"
    }
   ],
   "source": [
    "# design network\n",
    "model = Sequential()\n",
    "model.add(LSTM(50, input_shape=(train_X.shape[1], train_X.shape[2])))\n",
    "model.add(Dense(1))\n",
    "model.compile(loss='mae', optimizer='adam', metrics=['accuracy'])\n",
    "# fit network\n",
    "history = model.fit(train_X, train_y, epochs=125, batch_size=48, validation_data=(test_X, test_y), verbose=2, shuffle=False)\n",
    "# plot history\n",
    "pyplot.plot(history.history['loss'], label='train')\n",
    "pyplot.plot(history.history['val_loss'], label='test')\n",
    "pyplot.legend()\n",
    "pyplot.show()\n"
   ]
  },
  {
   "cell_type": "code",
   "execution_count": 11,
   "metadata": {},
   "outputs": [
    {
     "name": "stdout",
     "output_type": "stream",
     "text": [
      "_________________________________________________________________\n",
      "Layer (type)                 Output Shape              Param #   \n",
      "=================================================================\n",
      "lstm_1 (LSTM)                (None, 50)                11400     \n",
      "_________________________________________________________________\n",
      "dense_1 (Dense)              (None, 1)                 51        \n",
      "=================================================================\n",
      "Total params: 11,451\n",
      "Trainable params: 11,451\n",
      "Non-trainable params: 0\n",
      "_________________________________________________________________\n"
     ]
    }
   ],
   "source": [
    "model.summary()\n"
   ]
  },
  {
   "cell_type": "code",
   "execution_count": 12,
   "metadata": {},
   "outputs": [
    {
     "name": "stdout",
     "output_type": "stream",
     "text": [
      "Test RMSE: 33.315\n"
     ]
    }
   ],
   "source": [
    "\n",
    "# make a prediction\n",
    "yhat = model.predict(test_X)\n",
    "test_X = test_X.reshape((test_X.shape[0], test_X.shape[2]))\n",
    "# invert scaling for forecast\n",
    "inv_yhat = concatenate((yhat, test_X[:, 1:]), axis=1)\n",
    "inv_yhat = scaler.inverse_transform(inv_yhat)\n",
    "inv_yhat = inv_yhat[:,0]\n",
    "# invert scaling for actual\n",
    "test_y = test_y.reshape((len(test_y), 1))\n",
    "inv_y = concatenate((test_y, test_X[:, 1:]), axis=1)\n",
    "inv_y = scaler.inverse_transform(inv_y)\n",
    "inv_y = inv_y[:,0]\n",
    "# calculate RMSE\n",
    "rmse = sqrt(mean_squared_error(inv_y, inv_yhat))\n",
    "print('Test RMSE: %.3f' % rmse)\n"
   ]
  },
  {
   "cell_type": "code",
   "execution_count": 13,
   "metadata": {},
   "outputs": [
    {
     "data": {
      "image/png": "[encoded data removed]",
      "text/plain": [
       "<Figure size 432x288 with 1 Axes>"
      ]
     },
     "metadata": {
      "needs_background": "light"
     },
     "output_type": "display_data"
    }
   ],
   "source": [
    "pyplot.plot(inv_yhat, label=\"predicted value\")\n",
    "pyplot.plot(inv_y, label=\"actual value\")\n",
    "pyplot.legend()\n",
    "pyplot.show()"
   ]
  },
  {
   "cell_type": "code",
   "execution_count": 14,
   "metadata": {},
   "outputs": [
    {
     "data": {
      "image/png": "[encoded data removed]",
      "text/plain": [
       "<Figure size 432x288 with 1 Axes>"
      ]
     },
     "metadata": {
      "needs_background": "light"
     },
     "output_type": "display_data"
    }
   ],
   "source": [
    "pyplot.plot(inv_yhat[-50:], label=\"predicted value\")\n",
    "pyplot.plot(inv_y[-50:], label=\"actual value\")\n",
    "pyplot.legend()\n",
    "pyplot.show()"
   ]
  },
  {
   "cell_type": "code",
   "execution_count": 15,
   "metadata": {},
   "outputs": [
    {
     "data": {
      "text/plain": [
       "1453.4607"
      ]
     },
     "execution_count": 15,
     "metadata": {},
     "output_type": "execute_result"
    }
   ],
   "source": [
    "inv_yhat[len(inv_yhat)-2]"
   ]
  },
  {
   "cell_type": "code",
   "execution_count": 16,
   "metadata": {},
   "outputs": [
    {
     "data": {
      "text/plain": [
       "1425.34"
      ]
     },
     "execution_count": 16,
     "metadata": {},
     "output_type": "execute_result"
    }
   ],
   "source": [
    "inv_y[len(inv_y)-1]"
   ]
  },
  {
   "cell_type": "code",
   "execution_count": 38,
   "metadata": {},
   "outputs": [],
   "source": [
    "# The path to our CSV file\n",
    "file2 = \"../data/csv/GoldPrices.csv\"\n",
    "df3 = pd.read_csv(file2)\n",
    "df4 = df3.filter(['Date','Settle'])\n",
    "df4['Date'] = pd.to_datetime(df4['Date'])\n",
    "RelVal = inv_yhat.tolist()\n",
    "RelVal.reverse()\n",
    "WklyDate = postfitdf['Date'].iloc[::-1].tolist()\n",
    "z = {'Date': WklyDate, 'Relative Value': RelVal}\n",
    "df5 = pd.concat([pd.Series(v, name=k) for k, v in z.items()], axis=1)\n",
    "df5['Date'] = pd.to_datetime(df5['Date'])\n",
    "\n",
    "PredictDF = pd.merge(df4, df5, on='Date', how='outer')\n",
    "FinalPredict_DF = PredictDF.head(len(test_y))\n",
    "FinalPredict_DF2 = FinalPredict_DF.fillna(method='bfill')"
   ]
  },
  {
   "cell_type": "code",
   "execution_count": 39,
   "metadata": {},
   "outputs": [
    {
     "data": {
      "image/png": "[encoded data removed]",
      "text/plain": [
       "<Figure size 432x288 with 1 Axes>"
      ]
     },
     "metadata": {
      "needs_background": "light"
     },
     "output_type": "display_data"
    }
   ],
   "source": [
    "fig = pyplot.figure()\n",
    "host = fig.add_subplot(111)\n",
    "host.set_ylabel('Price')\n",
    "\n",
    "line1, = host.plot(FinalPredict_DF2['Date'], FinalPredict_DF2['Settle'], color='black', linestyle='dotted', linewidth=2)\n",
    "line2, = host.plot(FinalPredict_DF2['Date'], FinalPredict_DF2['Relative Value'], 'go', markersize=4)\n",
    "host.legend([line1, line2], ['Settle', 'Relative Value'])\n",
    "\n",
    "host.xaxis_date()\n",
    "pyplot.show()"
   ]
  },
  {
   "cell_type": "code",
   "execution_count": 40,
   "metadata": {
    "scrolled": false
   },
   "outputs": [
    {
     "data": {
      "text/html": [
       "<div>\n",
       "<style scoped>\n",
       "    .dataframe tbody tr th:only-of-type {\n",
       "        vertical-align: middle;\n",
       "    }\n",
       "\n",
       "    .dataframe tbody tr th {\n",
       "        vertical-align: top;\n",
       "    }\n",
       "\n",
       "    .dataframe thead th {\n",
       "        text-align: right;\n",
       "    }\n",
       "</style>\n",
       "<table border=\"1\" class=\"dataframe\">\n",
       "  <thead>\n",
       "    <tr style=\"text-align: right;\">\n",
       "      <th></th>\n",
       "      <th>Date</th>\n",
       "      <th>Settle</th>\n",
       "      <th>Relative Value</th>\n",
       "    </tr>\n",
       "  </thead>\n",
       "  <tbody>\n",
       "    <tr>\n",
       "      <th>0</th>\n",
       "      <td>2019-07-26</td>\n",
       "      <td>1419.3</td>\n",
       "      <td>1460.460693</td>\n",
       "    </tr>\n",
       "    <tr>\n",
       "      <th>1</th>\n",
       "      <td>2019-07-25</td>\n",
       "      <td>1414.7</td>\n",
       "      <td>1460.460693</td>\n",
       "    </tr>\n",
       "    <tr>\n",
       "      <th>2</th>\n",
       "      <td>2019-07-24</td>\n",
       "      <td>1423.6</td>\n",
       "      <td>1460.460693</td>\n",
       "    </tr>\n",
       "    <tr>\n",
       "      <th>3</th>\n",
       "      <td>2019-07-23</td>\n",
       "      <td>1421.7</td>\n",
       "      <td>1460.460693</td>\n",
       "    </tr>\n",
       "    <tr>\n",
       "      <th>4</th>\n",
       "      <td>2019-07-22</td>\n",
       "      <td>1426.9</td>\n",
       "      <td>1453.460693</td>\n",
       "    </tr>\n",
       "  </tbody>\n",
       "</table>\n",
       "</div>"
      ],
      "text/plain": [
       "        Date  Settle  Relative Value\n",
       "0 2019-07-26  1419.3     1460.460693\n",
       "1 2019-07-25  1414.7     1460.460693\n",
       "2 2019-07-24  1423.6     1460.460693\n",
       "3 2019-07-23  1421.7     1460.460693\n",
       "4 2019-07-22  1426.9     1453.460693"
      ]
     },
     "execution_count": 40,
     "metadata": {},
     "output_type": "execute_result"
    }
   ],
   "source": [
    "FinalPredict_DF2.head()"
   ]
  },
  {
   "cell_type": "code",
   "execution_count": 41,
   "metadata": {},
   "outputs": [],
   "source": [
    "for i in range(len(FinalPredict_DF2.index)-3):\n",
    "    FinalPredict_DF2.at[i,\"Relative Value\"] = FinalPredict_DF2[\"Relative Value\"][i+3]\n",
    "FinalPredict_DF2 = FinalPredict_DF2.iloc[:len(FinalPredict_DF2.index)-3]"
   ]
  },
  {
   "cell_type": "code",
   "execution_count": 42,
   "metadata": {},
   "outputs": [
    {
     "data": {
      "text/html": [
       "<div>\n",
       "<style scoped>\n",
       "    .dataframe tbody tr th:only-of-type {\n",
       "        vertical-align: middle;\n",
       "    }\n",
       "\n",
       "    .dataframe tbody tr th {\n",
       "        vertical-align: top;\n",
       "    }\n",
       "\n",
       "    .dataframe thead th {\n",
       "        text-align: right;\n",
       "    }\n",
       "</style>\n",
       "<table border=\"1\" class=\"dataframe\">\n",
       "  <thead>\n",
       "    <tr style=\"text-align: right;\">\n",
       "      <th></th>\n",
       "      <th>Date</th>\n",
       "      <th>Settle</th>\n",
       "      <th>Relative Value</th>\n",
       "    </tr>\n",
       "  </thead>\n",
       "  <tbody>\n",
       "    <tr>\n",
       "      <th>0</th>\n",
       "      <td>2019-07-26</td>\n",
       "      <td>1419.3</td>\n",
       "      <td>1460.460693</td>\n",
       "    </tr>\n",
       "    <tr>\n",
       "      <th>1</th>\n",
       "      <td>2019-07-25</td>\n",
       "      <td>1414.7</td>\n",
       "      <td>1453.460693</td>\n",
       "    </tr>\n",
       "    <tr>\n",
       "      <th>2</th>\n",
       "      <td>2019-07-24</td>\n",
       "      <td>1423.6</td>\n",
       "      <td>1453.460693</td>\n",
       "    </tr>\n",
       "    <tr>\n",
       "      <th>3</th>\n",
       "      <td>2019-07-23</td>\n",
       "      <td>1421.7</td>\n",
       "      <td>1453.460693</td>\n",
       "    </tr>\n",
       "    <tr>\n",
       "      <th>4</th>\n",
       "      <td>2019-07-22</td>\n",
       "      <td>1426.9</td>\n",
       "      <td>1453.460693</td>\n",
       "    </tr>\n",
       "  </tbody>\n",
       "</table>\n",
       "</div>"
      ],
      "text/plain": [
       "        Date  Settle  Relative Value\n",
       "0 2019-07-26  1419.3     1460.460693\n",
       "1 2019-07-25  1414.7     1453.460693\n",
       "2 2019-07-24  1423.6     1453.460693\n",
       "3 2019-07-23  1421.7     1453.460693\n",
       "4 2019-07-22  1426.9     1453.460693"
      ]
     },
     "execution_count": 42,
     "metadata": {},
     "output_type": "execute_result"
    }
   ],
   "source": [
    "FinalPredict_DF2.head()"
   ]
  },
  {
   "cell_type": "code",
   "execution_count": 28,
   "metadata": {},
   "outputs": [],
   "source": [
    "#pyplot.plot(FinalPredict_DF2['Relative Value'], label=\"Relative Value\")\n",
    "#pyplot.plot(FinalPredict_DF['Settle'], label=\"Daily Settle\")\n",
    "#pyplot.legend()\n",
    "#pyplot.gca().invert_xaxis()\n",
    "#pyplot.show()\n"
   ]
  },
  {
   "cell_type": "code",
   "execution_count": null,
   "metadata": {},
   "outputs": [],
   "source": [
    "#GoldDF.to_csv(\"../data/csv/GoldPrices.csv\")"
   ]
  },
  {
   "cell_type": "code",
   "execution_count": null,
   "metadata": {},
   "outputs": [],
   "source": []
  },
  {
   "cell_type": "code",
   "execution_count": null,
   "metadata": {},
   "outputs": [],
   "source": []
  }
 ],
 "metadata": {
  "kernelspec": {
   "display_name": "Python 3",
   "language": "python",
   "name": "python3"
  },
  "language_info": {
   "codemirror_mode": {
    "name": "ipython",
    "version": 3
   },
   "file_extension": ".py",
   "mimetype": "text/x-python",
   "name": "python",
   "nbconvert_exporter": "python",
   "pygments_lexer": "ipython3",
   "version": "3.7.1"
  }
 },
 "nbformat": 4,
 "nbformat_minor": 2
}
