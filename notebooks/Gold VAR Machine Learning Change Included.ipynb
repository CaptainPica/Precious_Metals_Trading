{
 "cells": [
  {
   "cell_type": "code",
   "execution_count": 1,
   "metadata": {},
   "outputs": [],
   "source": [
    "import pandas as pd\n",
    "from itertools import combinations\n",
    "from statsmodels.tsa.vector_ar.vecm import coint_johansen\n",
    "from statsmodels.tsa.api import VAR\n",
    "# from statsmodels.tsa.vector_ar.var_model import VAR\n",
    "from sklearn.preprocessing import MinMaxScaler\n",
    "from sklearn.metrics import mean_squared_error\n",
    "from math import sqrt\n",
    "from datetime import timedelta"
   ]
  },
  {
   "cell_type": "code",
   "execution_count": 2,
   "metadata": {},
   "outputs": [],
   "source": [
    "df = pd.read_csv(\"../data/csv/Gold_Data.csv\",index_col=\"Business_Week\")\n",
    "# print(len(df.columns),len(df.index))"
   ]
  },
  {
   "cell_type": "code",
   "execution_count": 3,
   "metadata": {
    "scrolled": false
   },
   "outputs": [],
   "source": [
    "# df = df.drop(df.columns[0],axis=1)\n",
    "# df = df.drop(df.columns[7],axis=1)\n",
    "# df = df.dropna(axis=1)\n",
    "df = df.dropna()\n",
    "# print(len(df.columns),len(df.index))"
   ]
  },
  {
   "cell_type": "code",
   "execution_count": 4,
   "metadata": {},
   "outputs": [],
   "source": [
    "# df.iloc[25:30]"
   ]
  },
  {
   "cell_type": "code",
   "execution_count": 5,
   "metadata": {},
   "outputs": [],
   "source": [
    "# Freq is very important, specifies when and how often data is taken.\n",
    "# VAR will not work without., in terms of specifying linear time for input.\n",
    "df[\"Date\"] = pd.to_datetime(df[\"Date\"],infer_datetime_format=True)\n",
    "df = df.reset_index(drop=True)\n",
    "for i in range(len(df[\"Date\"])):\n",
    "    if df[\"Date\"][i].weekday() != 1:\n",
    "#         print(df[\"Date\"][i])\n",
    "        try:\n",
    "            df.at[i,\"Date\"] = df[\"Date\"][i-1]+timedelta(days=7)\n",
    "#             print(df[\"Date\"][i])\n",
    "#             print(df[\"Date\"][i].weekday())\n",
    "        except:\n",
    "            df.at[i,\"Date\"] = df[\"Date\"][i+1]-timedelta(days=7)\n",
    "# print(df.iloc[29,:])\n",
    "df.set_index(\"Date\",inplace=True)\n",
    "df = df.asfreq(\"W-TUE\")"
   ]
  },
  {
   "cell_type": "code",
   "execution_count": 6,
   "metadata": {},
   "outputs": [],
   "source": [
    "df = df.dropna()\n",
    "# len(df.index)"
   ]
  },
  {
   "cell_type": "code",
   "execution_count": 7,
   "metadata": {},
   "outputs": [
    {
     "data": {
      "text/plain": [
       "23"
      ]
     },
     "execution_count": 7,
     "metadata": {},
     "output_type": "execute_result"
    }
   ],
   "source": [
    "len(list(df.columns))"
   ]
  },
  {
   "cell_type": "code",
   "execution_count": 8,
   "metadata": {},
   "outputs": [],
   "source": [
    "check_columns = list(df.columns)\n",
    "check_columns.remove(\"Gold_Settle\")"
   ]
  },
  {
   "cell_type": "code",
   "execution_count": 9,
   "metadata": {},
   "outputs": [],
   "source": [
    "test_columns = [list(combination) for combination in combinations(check_columns,12)]\n",
    "test_results = [coint_johansen(df[combination],-1,1) for combination in test_columns]"
   ]
  },
  {
   "cell_type": "code",
   "execution_count": 11,
   "metadata": {},
   "outputs": [],
   "source": [
    "# len(test_results[12].evec)"
   ]
  },
  {
   "cell_type": "code",
   "execution_count": 12,
   "metadata": {
    "scrolled": true
   },
   "outputs": [],
   "source": [
    "# test_results[12].lr1"
   ]
  },
  {
   "cell_type": "code",
   "execution_count": 13,
   "metadata": {
    "scrolled": true
   },
   "outputs": [],
   "source": [
    "# test_results[12].cvt"
   ]
  },
  {
   "cell_type": "code",
   "execution_count": 10,
   "metadata": {},
   "outputs": [],
   "source": [
    "cointegration_ranking = [sum([1 if result.lr1[i] >= result.cvt[i][2] else 0 for i in range(12)]) for result in test_results]"
   ]
  },
  {
   "cell_type": "code",
   "execution_count": 11,
   "metadata": {
    "scrolled": true
   },
   "outputs": [],
   "source": [
    "# Will break if all 12 features tested have cointegration, this is real unlikely though.\n",
    "highest_coint_rank = max(cointegration_ranking)\n",
    "# print(highest_coint_rank)\n",
    "coint_info_index = cointegration_ranking.index(highest_coint_rank)\n",
    "coint_vectors = [test_columns[coint_info_index].copy(),list(test_results[coint_info_index].evec[highest_coint_rank])]\n",
    "for i in range(highest_coint_rank+1,12):\n",
    "    coint_vectors[0].pop(i)\n",
    "    coint_vectors[1].pop(i)"
   ]
  },
  {
   "cell_type": "code",
   "execution_count": 23,
   "metadata": {},
   "outputs": [
    {
     "data": {
      "text/plain": [
       "array([0.58614936, 0.49468256, 0.47595059, 0.41830721, 0.33463355,\n",
       "       0.2919888 , 0.2032198 , 0.18628807, 0.15566185, 0.12072655,\n",
       "       0.11254034, 0.00431322])"
      ]
     },
     "execution_count": 23,
     "metadata": {},
     "output_type": "execute_result"
    }
   ],
   "source": [
    "test_results[coint_info_index].eig"
   ]
  },
  {
   "cell_type": "code",
   "execution_count": 12,
   "metadata": {},
   "outputs": [],
   "source": [
    "modulated_series = [df[coint_vectors[0][i]]*coint_vectors[1][i] for i in range(highest_coint_rank+1)]"
   ]
  },
  {
   "cell_type": "code",
   "execution_count": 13,
   "metadata": {},
   "outputs": [],
   "source": [
    "stationary_series = modulated_series.pop(0)\n",
    "for series in modulated_series:\n",
    "    stationary_series += series"
   ]
  },
  {
   "cell_type": "code",
   "execution_count": 14,
   "metadata": {},
   "outputs": [],
   "source": [
    "df[\"Stationary_Conglomerate\"] = stationary_series"
   ]
  },
  {
   "cell_type": "code",
   "execution_count": 15,
   "metadata": {},
   "outputs": [],
   "source": [
    "df.drop(coint_vectors[0],axis=1,inplace=True)"
   ]
  },
  {
   "cell_type": "code",
   "execution_count": 16,
   "metadata": {},
   "outputs": [
    {
     "data": {
      "text/html": [
       "<div>\n",
       "<style scoped>\n",
       "    .dataframe tbody tr th:only-of-type {\n",
       "        vertical-align: middle;\n",
       "    }\n",
       "\n",
       "    .dataframe tbody tr th {\n",
       "        vertical-align: top;\n",
       "    }\n",
       "\n",
       "    .dataframe thead th {\n",
       "        text-align: right;\n",
       "    }\n",
       "</style>\n",
       "<table border=\"1\" class=\"dataframe\">\n",
       "  <thead>\n",
       "    <tr style=\"text-align: right;\">\n",
       "      <th></th>\n",
       "      <th>Gold_Settle</th>\n",
       "      <th>Producer/Merchant/Processor/User Longs</th>\n",
       "      <th>Producer/Merchant/Processor/User Shorts</th>\n",
       "      <th>Ten_Yr_Futures_Settle</th>\n",
       "      <th>Ten_Yr_Futures_Prev. Day Open Interest</th>\n",
       "      <th>USD_Settle</th>\n",
       "      <th>USD_Volume</th>\n",
       "      <th>USD_Prev. Day Open Interest</th>\n",
       "      <th>ZAR_Volume</th>\n",
       "      <th>ZAR_Wave</th>\n",
       "      <th>ZAR_Prev. Day Open Interest</th>\n",
       "      <th>Stationary_Conglomerate</th>\n",
       "    </tr>\n",
       "    <tr>\n",
       "      <th>Date</th>\n",
       "      <th></th>\n",
       "      <th></th>\n",
       "      <th></th>\n",
       "      <th></th>\n",
       "      <th></th>\n",
       "      <th></th>\n",
       "      <th></th>\n",
       "      <th></th>\n",
       "      <th></th>\n",
       "      <th></th>\n",
       "      <th></th>\n",
       "      <th></th>\n",
       "    </tr>\n",
       "  </thead>\n",
       "  <tbody>\n",
       "    <tr>\n",
       "      <th>2019-03-12</th>\n",
       "      <td>1290.16</td>\n",
       "      <td>43255.0</td>\n",
       "      <td>105756.0</td>\n",
       "      <td>122.378125</td>\n",
       "      <td>3825284.6</td>\n",
       "      <td>97.1538</td>\n",
       "      <td>22297.0</td>\n",
       "      <td>57772.0</td>\n",
       "      <td>25.8</td>\n",
       "      <td>14.368210</td>\n",
       "      <td>66.750000</td>\n",
       "      <td>-229711.443535</td>\n",
       "    </tr>\n",
       "    <tr>\n",
       "      <th>2019-03-19</th>\n",
       "      <td>1301.60</td>\n",
       "      <td>51053.0</td>\n",
       "      <td>118282.0</td>\n",
       "      <td>122.568750</td>\n",
       "      <td>3885013.6</td>\n",
       "      <td>96.3370</td>\n",
       "      <td>14723.6</td>\n",
       "      <td>52886.2</td>\n",
       "      <td>20.4</td>\n",
       "      <td>14.495198</td>\n",
       "      <td>106.000000</td>\n",
       "      <td>-235144.483403</td>\n",
       "    </tr>\n",
       "    <tr>\n",
       "      <th>2019-06-04</th>\n",
       "      <td>1303.92</td>\n",
       "      <td>41139.0</td>\n",
       "      <td>124446.0</td>\n",
       "      <td>126.234375</td>\n",
       "      <td>4184701.6</td>\n",
       "      <td>97.5626</td>\n",
       "      <td>18806.4</td>\n",
       "      <td>49452.4</td>\n",
       "      <td>11.8</td>\n",
       "      <td>14.652196</td>\n",
       "      <td>109.250000</td>\n",
       "      <td>188283.148924</td>\n",
       "    </tr>\n",
       "    <tr>\n",
       "      <th>2019-06-11</th>\n",
       "      <td>1331.64</td>\n",
       "      <td>46038.0</td>\n",
       "      <td>136187.0</td>\n",
       "      <td>126.603125</td>\n",
       "      <td>3965213.6</td>\n",
       "      <td>96.8188</td>\n",
       "      <td>25410.2</td>\n",
       "      <td>44996.2</td>\n",
       "      <td>12.0</td>\n",
       "      <td>14.895546</td>\n",
       "      <td>103.200000</td>\n",
       "      <td>-222303.419248</td>\n",
       "    </tr>\n",
       "    <tr>\n",
       "      <th>2019-06-18</th>\n",
       "      <td>1339.30</td>\n",
       "      <td>52208.0</td>\n",
       "      <td>151171.0</td>\n",
       "      <td>126.937500</td>\n",
       "      <td>3940941.0</td>\n",
       "      <td>97.1488</td>\n",
       "      <td>20748.8</td>\n",
       "      <td>47139.4</td>\n",
       "      <td>9.5</td>\n",
       "      <td>14.848470</td>\n",
       "      <td>132.666667</td>\n",
       "      <td>-259882.785614</td>\n",
       "    </tr>\n",
       "  </tbody>\n",
       "</table>\n",
       "</div>"
      ],
      "text/plain": [
       "            Gold_Settle  Producer/Merchant/Processor/User Longs  \\\n",
       "Date                                                              \n",
       "2019-03-12      1290.16                                 43255.0   \n",
       "2019-03-19      1301.60                                 51053.0   \n",
       "2019-06-04      1303.92                                 41139.0   \n",
       "2019-06-11      1331.64                                 46038.0   \n",
       "2019-06-18      1339.30                                 52208.0   \n",
       "\n",
       "            Producer/Merchant/Processor/User Shorts  Ten_Yr_Futures_Settle  \\\n",
       "Date                                                                         \n",
       "2019-03-12                                 105756.0             122.378125   \n",
       "2019-03-19                                 118282.0             122.568750   \n",
       "2019-06-04                                 124446.0             126.234375   \n",
       "2019-06-11                                 136187.0             126.603125   \n",
       "2019-06-18                                 151171.0             126.937500   \n",
       "\n",
       "            Ten_Yr_Futures_Prev. Day Open Interest  USD_Settle  USD_Volume  \\\n",
       "Date                                                                         \n",
       "2019-03-12                               3825284.6     97.1538     22297.0   \n",
       "2019-03-19                               3885013.6     96.3370     14723.6   \n",
       "2019-06-04                               4184701.6     97.5626     18806.4   \n",
       "2019-06-11                               3965213.6     96.8188     25410.2   \n",
       "2019-06-18                               3940941.0     97.1488     20748.8   \n",
       "\n",
       "            USD_Prev. Day Open Interest  ZAR_Volume   ZAR_Wave  \\\n",
       "Date                                                             \n",
       "2019-03-12                      57772.0        25.8  14.368210   \n",
       "2019-03-19                      52886.2        20.4  14.495198   \n",
       "2019-06-04                      49452.4        11.8  14.652196   \n",
       "2019-06-11                      44996.2        12.0  14.895546   \n",
       "2019-06-18                      47139.4         9.5  14.848470   \n",
       "\n",
       "            ZAR_Prev. Day Open Interest  Stationary_Conglomerate  \n",
       "Date                                                              \n",
       "2019-03-12                    66.750000           -229711.443535  \n",
       "2019-03-19                   106.000000           -235144.483403  \n",
       "2019-06-04                   109.250000            188283.148924  \n",
       "2019-06-11                   103.200000           -222303.419248  \n",
       "2019-06-18                   132.666667           -259882.785614  "
      ]
     },
     "execution_count": 16,
     "metadata": {},
     "output_type": "execute_result"
    }
   ],
   "source": [
    "df.tail()"
   ]
  },
  {
   "cell_type": "code",
   "execution_count": 17,
   "metadata": {},
   "outputs": [],
   "source": [
    "scaler = MinMaxScaler()"
   ]
  },
  {
   "cell_type": "code",
   "execution_count": 18,
   "metadata": {},
   "outputs": [
    {
     "data": {
      "text/html": [
       "<div>\n",
       "<style scoped>\n",
       "    .dataframe tbody tr th:only-of-type {\n",
       "        vertical-align: middle;\n",
       "    }\n",
       "\n",
       "    .dataframe tbody tr th {\n",
       "        vertical-align: top;\n",
       "    }\n",
       "\n",
       "    .dataframe thead th {\n",
       "        text-align: right;\n",
       "    }\n",
       "</style>\n",
       "<table border=\"1\" class=\"dataframe\">\n",
       "  <thead>\n",
       "    <tr style=\"text-align: right;\">\n",
       "      <th></th>\n",
       "      <th>Gold_Settle</th>\n",
       "      <th>Producer/Merchant/Processor/User Longs</th>\n",
       "      <th>Producer/Merchant/Processor/User Shorts</th>\n",
       "      <th>Ten_Yr_Futures_Settle</th>\n",
       "      <th>Ten_Yr_Futures_Prev. Day Open Interest</th>\n",
       "      <th>USD_Settle</th>\n",
       "      <th>USD_Volume</th>\n",
       "      <th>USD_Prev. Day Open Interest</th>\n",
       "      <th>ZAR_Volume</th>\n",
       "      <th>ZAR_Wave</th>\n",
       "      <th>ZAR_Prev. Day Open Interest</th>\n",
       "      <th>Stationary_Conglomerate</th>\n",
       "    </tr>\n",
       "    <tr>\n",
       "      <th>Date</th>\n",
       "      <th></th>\n",
       "      <th></th>\n",
       "      <th></th>\n",
       "      <th></th>\n",
       "      <th></th>\n",
       "      <th></th>\n",
       "      <th></th>\n",
       "      <th></th>\n",
       "      <th></th>\n",
       "      <th></th>\n",
       "      <th></th>\n",
       "      <th></th>\n",
       "    </tr>\n",
       "  </thead>\n",
       "  <tbody>\n",
       "    <tr>\n",
       "      <th>2019-03-12</th>\n",
       "      <td>0.817106</td>\n",
       "      <td>0.247051</td>\n",
       "      <td>0.178973</td>\n",
       "      <td>0.247789</td>\n",
       "      <td>0.728439</td>\n",
       "      <td>0.755093</td>\n",
       "      <td>0.169370</td>\n",
       "      <td>0.228298</td>\n",
       "      <td>0.035144</td>\n",
       "      <td>0.896285</td>\n",
       "      <td>0.001759</td>\n",
       "      <td>0.019953</td>\n",
       "    </tr>\n",
       "    <tr>\n",
       "      <th>2019-03-19</th>\n",
       "      <td>0.859684</td>\n",
       "      <td>0.381321</td>\n",
       "      <td>0.258225</td>\n",
       "      <td>0.262776</td>\n",
       "      <td>0.759372</td>\n",
       "      <td>0.719870</td>\n",
       "      <td>0.071121</td>\n",
       "      <td>0.183342</td>\n",
       "      <td>0.027492</td>\n",
       "      <td>0.905234</td>\n",
       "      <td>0.005562</td>\n",
       "      <td>0.016360</td>\n",
       "    </tr>\n",
       "    <tr>\n",
       "      <th>2019-06-04</th>\n",
       "      <td>0.868319</td>\n",
       "      <td>0.210617</td>\n",
       "      <td>0.297225</td>\n",
       "      <td>0.550983</td>\n",
       "      <td>0.914578</td>\n",
       "      <td>0.772722</td>\n",
       "      <td>0.124087</td>\n",
       "      <td>0.151746</td>\n",
       "      <td>0.015305</td>\n",
       "      <td>0.916298</td>\n",
       "      <td>0.005877</td>\n",
       "      <td>0.296386</td>\n",
       "    </tr>\n",
       "    <tr>\n",
       "      <th>2019-06-11</th>\n",
       "      <td>0.971490</td>\n",
       "      <td>0.294970</td>\n",
       "      <td>0.371511</td>\n",
       "      <td>0.579975</td>\n",
       "      <td>0.800907</td>\n",
       "      <td>0.740647</td>\n",
       "      <td>0.209757</td>\n",
       "      <td>0.110743</td>\n",
       "      <td>0.015588</td>\n",
       "      <td>0.933448</td>\n",
       "      <td>0.005290</td>\n",
       "      <td>0.024852</td>\n",
       "    </tr>\n",
       "    <tr>\n",
       "      <th>2019-06-18</th>\n",
       "      <td>1.000000</td>\n",
       "      <td>0.401209</td>\n",
       "      <td>0.466315</td>\n",
       "      <td>0.606265</td>\n",
       "      <td>0.788336</td>\n",
       "      <td>0.754877</td>\n",
       "      <td>0.149285</td>\n",
       "      <td>0.130463</td>\n",
       "      <td>0.012045</td>\n",
       "      <td>0.930131</td>\n",
       "      <td>0.008146</td>\n",
       "      <td>0.000000</td>\n",
       "    </tr>\n",
       "  </tbody>\n",
       "</table>\n",
       "</div>"
      ],
      "text/plain": [
       "            Gold_Settle  Producer/Merchant/Processor/User Longs  \\\n",
       "Date                                                              \n",
       "2019-03-12     0.817106                                0.247051   \n",
       "2019-03-19     0.859684                                0.381321   \n",
       "2019-06-04     0.868319                                0.210617   \n",
       "2019-06-11     0.971490                                0.294970   \n",
       "2019-06-18     1.000000                                0.401209   \n",
       "\n",
       "            Producer/Merchant/Processor/User Shorts  Ten_Yr_Futures_Settle  \\\n",
       "Date                                                                         \n",
       "2019-03-12                                 0.178973               0.247789   \n",
       "2019-03-19                                 0.258225               0.262776   \n",
       "2019-06-04                                 0.297225               0.550983   \n",
       "2019-06-11                                 0.371511               0.579975   \n",
       "2019-06-18                                 0.466315               0.606265   \n",
       "\n",
       "            Ten_Yr_Futures_Prev. Day Open Interest  USD_Settle  USD_Volume  \\\n",
       "Date                                                                         \n",
       "2019-03-12                                0.728439    0.755093    0.169370   \n",
       "2019-03-19                                0.759372    0.719870    0.071121   \n",
       "2019-06-04                                0.914578    0.772722    0.124087   \n",
       "2019-06-11                                0.800907    0.740647    0.209757   \n",
       "2019-06-18                                0.788336    0.754877    0.149285   \n",
       "\n",
       "            USD_Prev. Day Open Interest  ZAR_Volume  ZAR_Wave  \\\n",
       "Date                                                            \n",
       "2019-03-12                     0.228298    0.035144  0.896285   \n",
       "2019-03-19                     0.183342    0.027492  0.905234   \n",
       "2019-06-04                     0.151746    0.015305  0.916298   \n",
       "2019-06-11                     0.110743    0.015588  0.933448   \n",
       "2019-06-18                     0.130463    0.012045  0.930131   \n",
       "\n",
       "            ZAR_Prev. Day Open Interest  Stationary_Conglomerate  \n",
       "Date                                                              \n",
       "2019-03-12                     0.001759                 0.019953  \n",
       "2019-03-19                     0.005562                 0.016360  \n",
       "2019-06-04                     0.005877                 0.296386  \n",
       "2019-06-11                     0.005290                 0.024852  \n",
       "2019-06-18                     0.008146                 0.000000  "
      ]
     },
     "execution_count": 18,
     "metadata": {},
     "output_type": "execute_result"
    }
   ],
   "source": [
    "normalized_df = scaler.fit_transform(df)\n",
    "normalized_df = pd.DataFrame(normalized_df,index=df.index,columns=df.columns)\n",
    "normalized_df.tail()"
   ]
  },
  {
   "cell_type": "code",
   "execution_count": 19,
   "metadata": {},
   "outputs": [],
   "source": [
    "train = normalized_df.iloc[:int(.8*(len(normalized_df.index)))]\n",
    "test = normalized_df.iloc[int(.8*(len(normalized_df.index))):]"
   ]
  },
  {
   "cell_type": "code",
   "execution_count": 20,
   "metadata": {},
   "outputs": [
    {
     "name": "stderr",
     "output_type": "stream",
     "text": [
      "C:\\Users\\benel\\Anaconda3\\lib\\site-packages\\statsmodels\\tsa\\base\\tsa_model.py:225: ValueWarning: A date index has been provided, but it has no associated frequency information and so will be ignored when e.g. forecasting.\n",
      "  ' ignored when e.g. forecasting.', ValueWarning)\n"
     ]
    }
   ],
   "source": [
    "model = VAR(endog=train)"
   ]
  },
  {
   "cell_type": "markdown",
   "metadata": {},
   "source": [
    "# https://github.com/scikit-learn/scikit-learn/issues/2640\n",
    "\n",
    "There are roundoff errors with the model when flitering the data in this manner. This doesn't seem to offer an easy fix and is likely to fail like the other model.\n",
    "Not Worth Pursuing Further"
   ]
  },
  {
   "cell_type": "code",
   "execution_count": 21,
   "metadata": {},
   "outputs": [
    {
     "ename": "LinAlgError",
     "evalue": "11-th leading minor of the array is not positive definite",
     "output_type": "error",
     "traceback": [
      "\u001b[1;31m---------------------------------------------------------------------------\u001b[0m",
      "\u001b[1;31mLinAlgError\u001b[0m                               Traceback (most recent call last)",
      "\u001b[1;32m<ipython-input-21-14f38062061b>\u001b[0m in \u001b[0;36m<module>\u001b[1;34m\u001b[0m\n\u001b[1;32m----> 1\u001b[1;33m \u001b[0mfit_model\u001b[0m \u001b[1;33m=\u001b[0m \u001b[0mmodel\u001b[0m\u001b[1;33m.\u001b[0m\u001b[0mfit\u001b[0m\u001b[1;33m(\u001b[0m\u001b[0mmaxlags\u001b[0m\u001b[1;33m=\u001b[0m\u001b[1;36m15\u001b[0m\u001b[1;33m,\u001b[0m \u001b[0mic\u001b[0m\u001b[1;33m=\u001b[0m\u001b[1;34m'aic'\u001b[0m\u001b[1;33m)\u001b[0m\u001b[1;33m\u001b[0m\u001b[1;33m\u001b[0m\u001b[0m\n\u001b[0m",
      "\u001b[1;32m~\\Anaconda3\\lib\\site-packages\\statsmodels\\tsa\\vector_ar\\var_model.py\u001b[0m in \u001b[0;36mfit\u001b[1;34m(self, maxlags, method, ic, trend, verbose)\u001b[0m\n\u001b[0;32m    615\u001b[0m \u001b[1;33m\u001b[0m\u001b[0m\n\u001b[0;32m    616\u001b[0m         \u001b[1;32mif\u001b[0m \u001b[0mic\u001b[0m \u001b[1;32mis\u001b[0m \u001b[1;32mnot\u001b[0m \u001b[1;32mNone\u001b[0m\u001b[1;33m:\u001b[0m\u001b[1;33m\u001b[0m\u001b[1;33m\u001b[0m\u001b[0m\n\u001b[1;32m--> 617\u001b[1;33m             \u001b[0mselections\u001b[0m \u001b[1;33m=\u001b[0m \u001b[0mself\u001b[0m\u001b[1;33m.\u001b[0m\u001b[0mselect_order\u001b[0m\u001b[1;33m(\u001b[0m\u001b[0mmaxlags\u001b[0m\u001b[1;33m=\u001b[0m\u001b[0mmaxlags\u001b[0m\u001b[1;33m)\u001b[0m\u001b[1;33m\u001b[0m\u001b[1;33m\u001b[0m\u001b[0m\n\u001b[0m\u001b[0;32m    618\u001b[0m             \u001b[1;32mif\u001b[0m \u001b[1;32mnot\u001b[0m \u001b[0mhasattr\u001b[0m\u001b[1;33m(\u001b[0m\u001b[0mselections\u001b[0m\u001b[1;33m,\u001b[0m \u001b[0mic\u001b[0m\u001b[1;33m)\u001b[0m\u001b[1;33m:\u001b[0m\u001b[1;33m\u001b[0m\u001b[1;33m\u001b[0m\u001b[0m\n\u001b[0;32m    619\u001b[0m                 raise Exception(\"%s not recognized, must be among %s\"\n",
      "\u001b[1;32m~\\Anaconda3\\lib\\site-packages\\statsmodels\\tsa\\vector_ar\\var_model.py\u001b[0m in \u001b[0;36mselect_order\u001b[1;34m(self, maxlags, trend)\u001b[0m\n\u001b[0;32m    745\u001b[0m             \u001b[0mresult\u001b[0m \u001b[1;33m=\u001b[0m \u001b[0mself\u001b[0m\u001b[1;33m.\u001b[0m\u001b[0m_estimate_var\u001b[0m\u001b[1;33m(\u001b[0m\u001b[0mp\u001b[0m\u001b[1;33m,\u001b[0m \u001b[0moffset\u001b[0m\u001b[1;33m=\u001b[0m\u001b[0mmaxlags\u001b[0m\u001b[1;33m-\u001b[0m\u001b[0mp\u001b[0m\u001b[1;33m,\u001b[0m \u001b[0mtrend\u001b[0m\u001b[1;33m=\u001b[0m\u001b[0mtrend\u001b[0m\u001b[1;33m)\u001b[0m\u001b[1;33m\u001b[0m\u001b[1;33m\u001b[0m\u001b[0m\n\u001b[0;32m    746\u001b[0m \u001b[1;33m\u001b[0m\u001b[0m\n\u001b[1;32m--> 747\u001b[1;33m             \u001b[1;32mfor\u001b[0m \u001b[0mk\u001b[0m\u001b[1;33m,\u001b[0m \u001b[0mv\u001b[0m \u001b[1;32min\u001b[0m \u001b[0miteritems\u001b[0m\u001b[1;33m(\u001b[0m\u001b[0mresult\u001b[0m\u001b[1;33m.\u001b[0m\u001b[0minfo_criteria\u001b[0m\u001b[1;33m)\u001b[0m\u001b[1;33m:\u001b[0m\u001b[1;33m\u001b[0m\u001b[1;33m\u001b[0m\u001b[0m\n\u001b[0m\u001b[0;32m    748\u001b[0m                 \u001b[0mics\u001b[0m\u001b[1;33m[\u001b[0m\u001b[0mk\u001b[0m\u001b[1;33m]\u001b[0m\u001b[1;33m.\u001b[0m\u001b[0mappend\u001b[0m\u001b[1;33m(\u001b[0m\u001b[0mv\u001b[0m\u001b[1;33m)\u001b[0m\u001b[1;33m\u001b[0m\u001b[1;33m\u001b[0m\u001b[0m\n\u001b[0;32m    749\u001b[0m \u001b[1;33m\u001b[0m\u001b[0m\n",
      "\u001b[1;32m~\\Anaconda3\\lib\\site-packages\\statsmodels\\base\\wrapper.py\u001b[0m in \u001b[0;36m__getattribute__\u001b[1;34m(self, attr)\u001b[0m\n\u001b[0;32m     33\u001b[0m             \u001b[1;32mpass\u001b[0m\u001b[1;33m\u001b[0m\u001b[1;33m\u001b[0m\u001b[0m\n\u001b[0;32m     34\u001b[0m \u001b[1;33m\u001b[0m\u001b[0m\n\u001b[1;32m---> 35\u001b[1;33m         \u001b[0mobj\u001b[0m \u001b[1;33m=\u001b[0m \u001b[0mgetattr\u001b[0m\u001b[1;33m(\u001b[0m\u001b[0mresults\u001b[0m\u001b[1;33m,\u001b[0m \u001b[0mattr\u001b[0m\u001b[1;33m)\u001b[0m\u001b[1;33m\u001b[0m\u001b[1;33m\u001b[0m\u001b[0m\n\u001b[0m\u001b[0;32m     36\u001b[0m         \u001b[0mdata\u001b[0m \u001b[1;33m=\u001b[0m \u001b[0mresults\u001b[0m\u001b[1;33m.\u001b[0m\u001b[0mmodel\u001b[0m\u001b[1;33m.\u001b[0m\u001b[0mdata\u001b[0m\u001b[1;33m\u001b[0m\u001b[1;33m\u001b[0m\u001b[0m\n\u001b[0;32m     37\u001b[0m         \u001b[0mhow\u001b[0m \u001b[1;33m=\u001b[0m \u001b[0mself\u001b[0m\u001b[1;33m.\u001b[0m\u001b[0m_wrap_attrs\u001b[0m\u001b[1;33m.\u001b[0m\u001b[0mget\u001b[0m\u001b[1;33m(\u001b[0m\u001b[0mattr\u001b[0m\u001b[1;33m)\u001b[0m\u001b[1;33m\u001b[0m\u001b[1;33m\u001b[0m\u001b[0m\n",
      "\u001b[1;32m~\\Anaconda3\\lib\\site-packages\\statsmodels\\tools\\decorators.py\u001b[0m in \u001b[0;36m__get__\u001b[1;34m(self, obj, type)\u001b[0m\n\u001b[0;32m     95\u001b[0m         \u001b[1;32mif\u001b[0m \u001b[0m_cachedval\u001b[0m \u001b[1;32mis\u001b[0m \u001b[1;32mNone\u001b[0m\u001b[1;33m:\u001b[0m\u001b[1;33m\u001b[0m\u001b[1;33m\u001b[0m\u001b[0m\n\u001b[0;32m     96\u001b[0m             \u001b[1;31m# Call the \"fget\" function\u001b[0m\u001b[1;33m\u001b[0m\u001b[1;33m\u001b[0m\u001b[1;33m\u001b[0m\u001b[0m\n\u001b[1;32m---> 97\u001b[1;33m             \u001b[0m_cachedval\u001b[0m \u001b[1;33m=\u001b[0m \u001b[0mself\u001b[0m\u001b[1;33m.\u001b[0m\u001b[0mfget\u001b[0m\u001b[1;33m(\u001b[0m\u001b[0mobj\u001b[0m\u001b[1;33m)\u001b[0m\u001b[1;33m\u001b[0m\u001b[1;33m\u001b[0m\u001b[0m\n\u001b[0m\u001b[0;32m     98\u001b[0m             \u001b[1;31m# Set the attribute in obj\u001b[0m\u001b[1;33m\u001b[0m\u001b[1;33m\u001b[0m\u001b[1;33m\u001b[0m\u001b[0m\n\u001b[0;32m     99\u001b[0m             \u001b[1;31m# print(\"Setting %s in cache to %s\" % (name, _cachedval))\u001b[0m\u001b[1;33m\u001b[0m\u001b[1;33m\u001b[0m\u001b[1;33m\u001b[0m\u001b[0m\n",
      "\u001b[1;32m~\\Anaconda3\\lib\\site-packages\\statsmodels\\tsa\\vector_ar\\var_model.py\u001b[0m in \u001b[0;36minfo_criteria\u001b[1;34m(self)\u001b[0m\n\u001b[0;32m   2052\u001b[0m         \u001b[0mfree_params\u001b[0m \u001b[1;33m=\u001b[0m \u001b[0mlag_order\u001b[0m \u001b[1;33m*\u001b[0m \u001b[0mneqs\u001b[0m \u001b[1;33m**\u001b[0m \u001b[1;36m2\u001b[0m \u001b[1;33m+\u001b[0m \u001b[0mneqs\u001b[0m \u001b[1;33m*\u001b[0m \u001b[0mself\u001b[0m\u001b[1;33m.\u001b[0m\u001b[0mk_exog\u001b[0m\u001b[1;33m\u001b[0m\u001b[1;33m\u001b[0m\u001b[0m\n\u001b[0;32m   2053\u001b[0m \u001b[1;33m\u001b[0m\u001b[0m\n\u001b[1;32m-> 2054\u001b[1;33m         \u001b[0mld\u001b[0m \u001b[1;33m=\u001b[0m \u001b[0mlogdet_symm\u001b[0m\u001b[1;33m(\u001b[0m\u001b[0mself\u001b[0m\u001b[1;33m.\u001b[0m\u001b[0msigma_u_mle\u001b[0m\u001b[1;33m)\u001b[0m\u001b[1;33m\u001b[0m\u001b[1;33m\u001b[0m\u001b[0m\n\u001b[0m\u001b[0;32m   2055\u001b[0m \u001b[1;33m\u001b[0m\u001b[0m\n\u001b[0;32m   2056\u001b[0m         \u001b[1;31m# See Lutkepohl pp. 146-150\u001b[0m\u001b[1;33m\u001b[0m\u001b[1;33m\u001b[0m\u001b[1;33m\u001b[0m\u001b[0m\n",
      "\u001b[1;32m~\\Anaconda3\\lib\\site-packages\\statsmodels\\tools\\linalg.py\u001b[0m in \u001b[0;36mlogdet_symm\u001b[1;34m(m, check_symm)\u001b[0m\n\u001b[0;32m    217\u001b[0m         \u001b[1;32mif\u001b[0m \u001b[1;32mnot\u001b[0m \u001b[0mnp\u001b[0m\u001b[1;33m.\u001b[0m\u001b[0mall\u001b[0m\u001b[1;33m(\u001b[0m\u001b[0mm\u001b[0m \u001b[1;33m==\u001b[0m \u001b[0mm\u001b[0m\u001b[1;33m.\u001b[0m\u001b[0mT\u001b[0m\u001b[1;33m)\u001b[0m\u001b[1;33m:\u001b[0m  \u001b[1;31m# would be nice to short-circuit check\u001b[0m\u001b[1;33m\u001b[0m\u001b[1;33m\u001b[0m\u001b[0m\n\u001b[0;32m    218\u001b[0m             \u001b[1;32mraise\u001b[0m \u001b[0mValueError\u001b[0m\u001b[1;33m(\u001b[0m\u001b[1;34m\"m is not symmetric.\"\u001b[0m\u001b[1;33m)\u001b[0m\u001b[1;33m\u001b[0m\u001b[1;33m\u001b[0m\u001b[0m\n\u001b[1;32m--> 219\u001b[1;33m     \u001b[0mc\u001b[0m\u001b[1;33m,\u001b[0m \u001b[0m_\u001b[0m \u001b[1;33m=\u001b[0m \u001b[0mlinalg\u001b[0m\u001b[1;33m.\u001b[0m\u001b[0mcho_factor\u001b[0m\u001b[1;33m(\u001b[0m\u001b[0mm\u001b[0m\u001b[1;33m,\u001b[0m \u001b[0mlower\u001b[0m\u001b[1;33m=\u001b[0m\u001b[1;32mTrue\u001b[0m\u001b[1;33m)\u001b[0m\u001b[1;33m\u001b[0m\u001b[1;33m\u001b[0m\u001b[0m\n\u001b[0m\u001b[0;32m    220\u001b[0m     \u001b[1;32mreturn\u001b[0m \u001b[1;36m2\u001b[0m\u001b[1;33m*\u001b[0m\u001b[0mnp\u001b[0m\u001b[1;33m.\u001b[0m\u001b[0msum\u001b[0m\u001b[1;33m(\u001b[0m\u001b[0mnp\u001b[0m\u001b[1;33m.\u001b[0m\u001b[0mlog\u001b[0m\u001b[1;33m(\u001b[0m\u001b[0mc\u001b[0m\u001b[1;33m.\u001b[0m\u001b[0mdiagonal\u001b[0m\u001b[1;33m(\u001b[0m\u001b[1;33m)\u001b[0m\u001b[1;33m)\u001b[0m\u001b[1;33m)\u001b[0m\u001b[1;33m\u001b[0m\u001b[1;33m\u001b[0m\u001b[0m\n\u001b[0;32m    221\u001b[0m \u001b[1;33m\u001b[0m\u001b[0m\n",
      "\u001b[1;32m~\\Anaconda3\\lib\\site-packages\\scipy\\linalg\\decomp_cholesky.py\u001b[0m in \u001b[0;36mcho_factor\u001b[1;34m(a, lower, overwrite_a, check_finite)\u001b[0m\n\u001b[0;32m    153\u001b[0m     \"\"\"\n\u001b[0;32m    154\u001b[0m     c, lower = _cholesky(a, lower=lower, overwrite_a=overwrite_a, clean=False,\n\u001b[1;32m--> 155\u001b[1;33m                          check_finite=check_finite)\n\u001b[0m\u001b[0;32m    156\u001b[0m     \u001b[1;32mreturn\u001b[0m \u001b[0mc\u001b[0m\u001b[1;33m,\u001b[0m \u001b[0mlower\u001b[0m\u001b[1;33m\u001b[0m\u001b[1;33m\u001b[0m\u001b[0m\n\u001b[0;32m    157\u001b[0m \u001b[1;33m\u001b[0m\u001b[0m\n",
      "\u001b[1;32m~\\Anaconda3\\lib\\site-packages\\scipy\\linalg\\decomp_cholesky.py\u001b[0m in \u001b[0;36m_cholesky\u001b[1;34m(a, lower, overwrite_a, clean, check_finite)\u001b[0m\n\u001b[0;32m     38\u001b[0m     \u001b[1;32mif\u001b[0m \u001b[0minfo\u001b[0m \u001b[1;33m>\u001b[0m \u001b[1;36m0\u001b[0m\u001b[1;33m:\u001b[0m\u001b[1;33m\u001b[0m\u001b[1;33m\u001b[0m\u001b[0m\n\u001b[0;32m     39\u001b[0m         raise LinAlgError(\"%d-th leading minor of the array is not positive \"\n\u001b[1;32m---> 40\u001b[1;33m                           \"definite\" % info)\n\u001b[0m\u001b[0;32m     41\u001b[0m     \u001b[1;32mif\u001b[0m \u001b[0minfo\u001b[0m \u001b[1;33m<\u001b[0m \u001b[1;36m0\u001b[0m\u001b[1;33m:\u001b[0m\u001b[1;33m\u001b[0m\u001b[1;33m\u001b[0m\u001b[0m\n\u001b[0;32m     42\u001b[0m         raise ValueError('LAPACK reported an illegal value in {}-th argument'\n",
      "\u001b[1;31mLinAlgError\u001b[0m: 11-th leading minor of the array is not positive definite"
     ]
    }
   ],
   "source": [
    "fit_model = model.fit(maxlags=15, ic='aic')"
   ]
  }
 ],
 "metadata": {
  "kernelspec": {
   "display_name": "Python 3",
   "language": "python",
   "name": "python3"
  },
  "language_info": {
   "codemirror_mode": {
    "name": "ipython",
    "version": 3
   },
   "file_extension": ".py",
   "mimetype": "text/x-python",
   "name": "python",
   "nbconvert_exporter": "python",
   "pygments_lexer": "ipython3",
   "version": "3.7.1"
  }
 },
 "nbformat": 4,
 "nbformat_minor": 2
}
