{
 "cells": [
  {
   "cell_type": "code",
   "execution_count": 1,
   "metadata": {},
   "outputs": [],
   "source": [
    "from requests import get\n",
    "import pandas as pd\n",
    "from API_Keys import quandl"
   ]
  },
  {
   "cell_type": "code",
   "execution_count": 3,
   "metadata": {},
   "outputs": [],
   "source": [
    "gold_futures_url = f\"https://www.quandl.com/api/v3/datasets/CHRIS/CME_MGC1.json?api_key={quandl}\"\n",
    "gold_options_url = f\"https://www.quandl.com/api/v3/datasets/CFTC/088691_FO_ALL.json?api_key={quandl}\""
   ]
  },
  {
   "cell_type": "code",
   "execution_count": 4,
   "metadata": {},
   "outputs": [],
   "source": [
    "gold_futures = get(gold_futures_url)\n",
    "gold_options = get(gold_options_url)"
   ]
  },
  {
   "cell_type": "code",
   "execution_count": 5,
   "metadata": {},
   "outputs": [],
   "source": [
    "gold_futures = gold_futures.json()\n",
    "gold_options = gold_options.json()"
   ]
  },
  {
   "cell_type": "code",
   "execution_count": 6,
   "metadata": {},
   "outputs": [],
   "source": [
    "g_futures_df = pd.DataFrame(gold_futures[\"dataset\"][\"data\"],columns=gold_futures[\"dataset\"][\"column_names\"])\n",
    "g_options_df = pd.DataFrame(gold_options[\"dataset\"][\"data\"],columns=gold_options[\"dataset\"][\"column_names\"])"
   ]
  },
  {
   "cell_type": "code",
   "execution_count": 17,
   "metadata": {},
   "outputs": [
    {
     "name": "stdout",
     "output_type": "stream",
     "text": [
      "1349\n",
      "684\n"
     ]
    }
   ],
   "source": [
    "print(len(g_futures_df.index))\n",
    "print(len(g_options_df.index))"
   ]
  },
  {
   "cell_type": "code",
   "execution_count": 14,
   "metadata": {},
   "outputs": [
    {
     "name": "stdout",
     "output_type": "stream",
     "text": [
      "279\n"
     ]
    },
    {
     "data": {
      "text/html": [
       "<div>\n",
       "<style scoped>\n",
       "    .dataframe tbody tr th:only-of-type {\n",
       "        vertical-align: middle;\n",
       "    }\n",
       "\n",
       "    .dataframe tbody tr th {\n",
       "        vertical-align: top;\n",
       "    }\n",
       "\n",
       "    .dataframe thead th {\n",
       "        text-align: right;\n",
       "    }\n",
       "</style>\n",
       "<table border=\"1\" class=\"dataframe\">\n",
       "  <thead>\n",
       "    <tr style=\"text-align: right;\">\n",
       "      <th></th>\n",
       "      <th>Date</th>\n",
       "      <th>Settle</th>\n",
       "      <th>Open Interest</th>\n",
       "      <th>Money Manager Longs</th>\n",
       "      <th>Money Manager Shorts</th>\n",
       "    </tr>\n",
       "  </thead>\n",
       "  <tbody>\n",
       "    <tr>\n",
       "      <th>0</th>\n",
       "      <td>2019-07-16</td>\n",
       "      <td>1411.2</td>\n",
       "      <td>1038695.0</td>\n",
       "      <td>248138.0</td>\n",
       "      <td>28250.0</td>\n",
       "    </tr>\n",
       "    <tr>\n",
       "      <th>1</th>\n",
       "      <td>2019-07-09</td>\n",
       "      <td>1400.5</td>\n",
       "      <td>1010098.0</td>\n",
       "      <td>241396.0</td>\n",
       "      <td>24254.0</td>\n",
       "    </tr>\n",
       "    <tr>\n",
       "      <th>2</th>\n",
       "      <td>2019-07-02</td>\n",
       "      <td>1408.0</td>\n",
       "      <td>1031393.0</td>\n",
       "      <td>258490.0</td>\n",
       "      <td>17327.0</td>\n",
       "    </tr>\n",
       "    <tr>\n",
       "      <th>3</th>\n",
       "      <td>2019-06-25</td>\n",
       "      <td>1414.9</td>\n",
       "      <td>1014917.0</td>\n",
       "      <td>255572.0</td>\n",
       "      <td>25908.0</td>\n",
       "    </tr>\n",
       "    <tr>\n",
       "      <th>4</th>\n",
       "      <td>2019-06-18</td>\n",
       "      <td>1346.6</td>\n",
       "      <td>858867.0</td>\n",
       "      <td>216650.0</td>\n",
       "      <td>26969.0</td>\n",
       "    </tr>\n",
       "  </tbody>\n",
       "</table>\n",
       "</div>"
      ],
      "text/plain": [
       "         Date  Settle  Open Interest  Money Manager Longs  \\\n",
       "0  2019-07-16  1411.2      1038695.0             248138.0   \n",
       "1  2019-07-09  1400.5      1010098.0             241396.0   \n",
       "2  2019-07-02  1408.0      1031393.0             258490.0   \n",
       "3  2019-06-25  1414.9      1014917.0             255572.0   \n",
       "4  2019-06-18  1346.6       858867.0             216650.0   \n",
       "\n",
       "   Money Manager Shorts  \n",
       "0               28250.0  \n",
       "1               24254.0  \n",
       "2               17327.0  \n",
       "3               25908.0  \n",
       "4               26969.0  "
      ]
     },
     "execution_count": 14,
     "metadata": {},
     "output_type": "execute_result"
    }
   ],
   "source": [
    "g_data = g_futures_df.merge(g_options_df, on = \"Date\", how = \"inner\")\n",
    "g_data = g_data[[\"Date\",\"Settle\",\"Open Interest\",\"Money Manager Longs\",\"Money Manager Shorts\"]]\n",
    "print(len(g_data.index))\n",
    "g_data.head()"
   ]
  },
  {
   "cell_type": "code",
   "execution_count": null,
   "metadata": {},
   "outputs": [],
   "source": []
  }
 ],
 "metadata": {
  "kernelspec": {
   "display_name": "Python 3",
   "language": "python",
   "name": "python3"
  },
  "language_info": {
   "codemirror_mode": {
    "name": "ipython",
    "version": 3
   },
   "file_extension": ".py",
   "mimetype": "text/x-python",
   "name": "python",
   "nbconvert_exporter": "python",
   "pygments_lexer": "ipython3",
   "version": "3.7.1"
  }
 },
 "nbformat": 4,
 "nbformat_minor": 2
}
