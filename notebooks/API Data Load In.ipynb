{
 "cells": [
  {
   "cell_type": "code",
   "execution_count": 120,
   "metadata": {},
   "outputs": [],
   "source": [
    "from requests import get\n",
    "import pandas as pd\n",
    "from API_Keys import quandl\n",
    "from datetime import datetime, timedelta"
   ]
  },
  {
   "cell_type": "markdown",
   "metadata": {},
   "source": [
    "# To add new data sources from Quandl\n",
    "Add your appropriately named URL in the cell below to the right group.\n",
    "\n",
    "Add that variable to the URL list at the end of the correct group\n",
    "\n",
    "Adjust range in cells that both merge them and also filter them to account for your addition\n",
    "\n",
    "For the renaming of merged columns, add your renaming schemata to the correct area.\n",
    "\n",
    "# This will fail if any step is messed up, or if the quandl data is organized differently than expected. This is hard to automate, potential issues can be expected.\n",
    "\n",
    "Also, if we need to keep different columns for new data, this will also break."
   ]
  },
  {
   "cell_type": "code",
   "execution_count": 68,
   "metadata": {},
   "outputs": [],
   "source": [
    "# Group 1, keep Change, Settle and Volume\n",
    "CMEgold_futures = f\"https://www.quandl.com/api/v3/datasets/CHRIS/CME_GC1.json?api_key={quandl}\"\n",
    "CMEsilver_futures = f\"https://www.quandl.com/api/v3/datasets/CHRIS/CME_SI1.json?api_key={quandl}\"\n",
    "CMEpalladium_futures = f\"https://www.quandl.com/api/v3/datasets/CHRIS/CME_PA1.json?api_key={quandl}\"\n",
    "CMEplatinum_futures = f\"https://www.quandl.com/api/v3/datasets/CHRIS/CME_PL1.json?api_key={quandl}\"\n",
    "CME_TenYear_futures = f\"https://www.quandl.com/api/v3/datasets/CHRIS/CME_TY1.json?api_key={quandl}\"\n",
    "\n",
    "#Group 2, keep Change, Settle, Wave, and Volume\n",
    "ICE_USD_futures = f\"https://www.quandl.com/api/v3/datasets/CHRIS/ICE_DX1.json?api_key={quandl}\"\n",
    "ICE_ZAR_futures = f\"https://www.quandl.com/api/v3/datasets/CHRIS/ICE_ZR1.json?api_key={quandl}\"\n",
    "# SGX_EuroD_futures = f\"https://www.quandl.com/api/v3/datasets/CHRIS/SGX_ED1.json?api_key={quandl}\"\n",
    "\n",
    "#Group 3, keep Open Interest, last one on list also decides cut off date.\n",
    "# Last one needs to be shortest weekly separation\n",
    "Gold_OpenInt = f\"https://www.quandl.com/api/v3/datasets/CFTC/088691_FO_ALL.json?api_key={quandl}\"\n",
    "Silver_OpenInt = f\"https://www.quandl.com/api/v3/datasets/CFTC/084691_FO_ALL.json?api_key={quandl}\"\n",
    "Palladium_OpenInt = f\"https://www.quandl.com/api/v3/datasets/CFTC/075651_FO_ALL.json?api_key={quandl}\"\n",
    "Platinum_OpenInt = f\"https://www.quandl.com/api/v3/datasets/CFTC/076651_FO_ALL.json?api_key={quandl}\""
   ]
  },
  {
   "cell_type": "code",
   "execution_count": 264,
   "metadata": {},
   "outputs": [],
   "source": [
    "url_list = [CMEgold_futures,CMEsilver_futures,CMEpalladium_futures,CMEplatinum_futures,CME_TenYear_futures,ICE_USD_futures,ICE_ZAR_futures,Gold_OpenInt,Silver_OpenInt,Palladium_OpenInt,Platinum_OpenInt]"
   ]
  },
  {
   "cell_type": "code",
   "execution_count": 265,
   "metadata": {},
   "outputs": [],
   "source": [
    "info_list = [get(url).json() for url in url_list]"
   ]
  },
  {
   "cell_type": "code",
   "execution_count": 449,
   "metadata": {},
   "outputs": [],
   "source": [
    "df_list = [pd.DataFrame(info[\"dataset\"][\"data\"],columns=info[\"dataset\"][\"column_names\"]) for info in info_list]"
   ]
  },
  {
   "cell_type": "code",
   "execution_count": 450,
   "metadata": {},
   "outputs": [],
   "source": [
    "# Creates a list that functions well in testing\n",
    "pruned_list = [None]*11"
   ]
  },
  {
   "cell_type": "code",
   "execution_count": 451,
   "metadata": {},
   "outputs": [],
   "source": [
    "# Cell to prune Group 1\n",
    "metal_namer = {0:\"Gold\",1:\"Silver\",2:\"Palladium\",3:\"Platinum\",4:\"Ten_Yr_Futures\"}\n",
    "for i in range(5):\n",
    "    pruned_list[i] = df_list[i][[\"Date\",\"Change\",\"Settle\",\"Volume\"]]\n",
    "    pruned_list[i].columns = [\"Date\",f\"{metal_namer[i]}_Change\",f\"{metal_namer[i]}_Settle\",f\"{metal_namer[i]}_Volume\"]"
   ]
  },
  {
   "cell_type": "code",
   "execution_count": 452,
   "metadata": {},
   "outputs": [],
   "source": [
    "# Cell to prune Group 2\n",
    "money_namer = {5:\"USD\",6:\"ZAR\"}\n",
    "for i in range(5,7):\n",
    "    pruned_list[i] = df_list[i][[\"Date\",\"Change\",\"Settle\",\"Volume\",\"Wave\"]]\n",
    "    pruned_list[i].columns = [\"Date\",f\"{money_namer[i]}_Change\",f\"{money_namer[i]}_Settle\",f\"{money_namer[i]}_Volume\",f\"{money_namer[i]}_Wave\"]"
   ]
  },
  {
   "cell_type": "code",
   "execution_count": 453,
   "metadata": {},
   "outputs": [],
   "source": [
    "for i in range(7,11):\n",
    "    pruned_list[i] = df_list[i][[\"Date\",\"Open Interest\"]]"
   ]
  },
  {
   "cell_type": "code",
   "execution_count": 454,
   "metadata": {},
   "outputs": [],
   "source": [
    "# Only works for days that are Tuesday releases on their latest and most recent\n",
    "# will need to add code to adjust for late releases because of Holidays\n",
    "cut_off_date = df_list[len(df_list)-1][\"Date\"][len(df_list[len(df_list)-1].index)-1]\n",
    "cut_off_date = (datetime.strptime(cut_off_date,\"%Y-%m-%d\") - timedelta(days=8))\n",
    "cut_off_date = cut_off_date.strftime(\"%Y-%m-%d\")\n",
    "recent_off_date = df_list[len(df_list)-1][\"Date\"][0]\n",
    "recent_off_date = (datetime.strptime(recent_off_date,\"%Y-%m-%d\") - timedelta(days=4))\n",
    "recent_off_date = recent_off_date.strftime(\"%Y-%m-%d\")"
   ]
  },
  {
   "cell_type": "code",
   "execution_count": 455,
   "metadata": {},
   "outputs": [],
   "source": [
    "for i in range(7):\n",
    "    pruned_list[i] = pruned_list[i].loc[pruned_list[i][\"Date\"]>=cut_off_date]\n",
    "    pruned_list[i] = pruned_list[i].loc[pruned_list[i][\"Date\"]<=recent_off_date]"
   ]
  },
  {
   "cell_type": "code",
   "execution_count": 456,
   "metadata": {},
   "outputs": [],
   "source": [
    "tuple_list = [((datetime.strptime(cut_off_date,\"%Y-%m-%d\")+timedelta(days=(w*7))),(datetime.strptime(cut_off_date,\"%Y-%m-%d\")+timedelta(days=(w*7 + 4)))) for w in range(len(df_list[len(df_list)-1].index))]\n",
    "cut_bins = pd.IntervalIndex.from_tuples(tuple_list,closed=\"both\")"
   ]
  },
  {
   "cell_type": "code",
   "execution_count": 457,
   "metadata": {},
   "outputs": [],
   "source": [
    "for bin_candidate in range(7):\n",
    "    bins = pd.cut(pruned_list[bin_candidate][\"Date\"],cut_bins)\n",
    "    pruned_list[bin_candidate] = pruned_list[bin_candidate].groupby(bins).mean()\n",
    "    pruned_list[bin_candidate] = pruned_list[bin_candidate].assign(Date=list(pruned_list[len(pruned_list)-1][\"Date\"].iloc[::-1]))\n",
    "    pruned_list[bin_candidate].index.names = [\"Business_Week\"]"
   ]
  },
  {
   "cell_type": "code",
   "execution_count": 461,
   "metadata": {},
   "outputs": [],
   "source": [
    "merged_list = [pruned_list[i].\\\n",
    "    merge(pruned_list[7+i], on = \"Date\", how = \"inner\").\\\n",
    "    merge(pruned_list[4], on = \"Date\", how = \"inner\").\\\n",
    "    merge(pruned_list[5], on = \"Date\", how = \"inner\").\\\n",
    "    merge(pruned_list[6], on = \"Date\", how = \"inner\").\\\n",
    "    set_index(pruned_list[i].index) for i in range(4)]"
   ]
  },
  {
   "cell_type": "code",
   "execution_count": 462,
   "metadata": {},
   "outputs": [
    {
     "data": {
      "text/html": [
       "<div>\n",
       "<style scoped>\n",
       "    .dataframe tbody tr th:only-of-type {\n",
       "        vertical-align: middle;\n",
       "    }\n",
       "\n",
       "    .dataframe tbody tr th {\n",
       "        vertical-align: top;\n",
       "    }\n",
       "\n",
       "    .dataframe thead th {\n",
       "        text-align: right;\n",
       "    }\n",
       "</style>\n",
       "<table border=\"1\" class=\"dataframe\">\n",
       "  <thead>\n",
       "    <tr style=\"text-align: right;\">\n",
       "      <th></th>\n",
       "      <th>Gold_Change</th>\n",
       "      <th>Gold_Settle</th>\n",
       "      <th>Gold_Volume</th>\n",
       "      <th>Date</th>\n",
       "      <th>Open Interest</th>\n",
       "      <th>Ten_Yr_Futures_Change</th>\n",
       "      <th>Ten_Yr_Futures_Settle</th>\n",
       "      <th>Ten_Yr_Futures_Volume</th>\n",
       "      <th>USD_Change</th>\n",
       "      <th>USD_Settle</th>\n",
       "      <th>USD_Volume</th>\n",
       "      <th>USD_Wave</th>\n",
       "      <th>ZAR_Change</th>\n",
       "      <th>ZAR_Settle</th>\n",
       "      <th>ZAR_Volume</th>\n",
       "      <th>ZAR_Wave</th>\n",
       "    </tr>\n",
       "    <tr>\n",
       "      <th>Business_Week</th>\n",
       "      <th></th>\n",
       "      <th></th>\n",
       "      <th></th>\n",
       "      <th></th>\n",
       "      <th></th>\n",
       "      <th></th>\n",
       "      <th></th>\n",
       "      <th></th>\n",
       "      <th></th>\n",
       "      <th></th>\n",
       "      <th></th>\n",
       "      <th></th>\n",
       "      <th></th>\n",
       "      <th></th>\n",
       "      <th></th>\n",
       "      <th></th>\n",
       "    </tr>\n",
       "  </thead>\n",
       "  <tbody>\n",
       "    <tr>\n",
       "      <th>[2006-06-05, 2006-06-09]</th>\n",
       "      <td>NaN</td>\n",
       "      <td>623.46</td>\n",
       "      <td>474.400000</td>\n",
       "      <td>2006-06-13</td>\n",
       "      <td>382474.0</td>\n",
       "      <td>NaN</td>\n",
       "      <td>105.803125</td>\n",
       "      <td>62852.40</td>\n",
       "      <td>0.34200</td>\n",
       "      <td>85.0620</td>\n",
       "      <td>5883.2</td>\n",
       "      <td>NaN</td>\n",
       "      <td>0.01010</td>\n",
       "      <td>6.7417</td>\n",
       "      <td>29.8</td>\n",
       "      <td>NaN</td>\n",
       "    </tr>\n",
       "    <tr>\n",
       "      <th>[2006-06-12, 2006-06-16]</th>\n",
       "      <td>NaN</td>\n",
       "      <td>575.22</td>\n",
       "      <td>121.600000</td>\n",
       "      <td>2006-06-20</td>\n",
       "      <td>390281.0</td>\n",
       "      <td>NaN</td>\n",
       "      <td>105.478125</td>\n",
       "      <td>14248.40</td>\n",
       "      <td>0.04600</td>\n",
       "      <td>86.0820</td>\n",
       "      <td>4010.2</td>\n",
       "      <td>NaN</td>\n",
       "      <td>0.02590</td>\n",
       "      <td>6.8631</td>\n",
       "      <td>80.4</td>\n",
       "      <td>NaN</td>\n",
       "    </tr>\n",
       "    <tr>\n",
       "      <th>[2006-06-19, 2006-06-23]</th>\n",
       "      <td>NaN</td>\n",
       "      <td>580.04</td>\n",
       "      <td>20.600000</td>\n",
       "      <td>2006-06-27</td>\n",
       "      <td>384321.0</td>\n",
       "      <td>NaN</td>\n",
       "      <td>104.568750</td>\n",
       "      <td>294178.80</td>\n",
       "      <td>0.30075</td>\n",
       "      <td>86.1412</td>\n",
       "      <td>3970.4</td>\n",
       "      <td>NaN</td>\n",
       "      <td>0.10125</td>\n",
       "      <td>7.2100</td>\n",
       "      <td>314.5</td>\n",
       "      <td>NaN</td>\n",
       "    </tr>\n",
       "    <tr>\n",
       "      <th>[2006-06-26, 2006-06-30]</th>\n",
       "      <td>NaN</td>\n",
       "      <td>589.92</td>\n",
       "      <td>19187.400000</td>\n",
       "      <td>2006-07-03</td>\n",
       "      <td>392868.0</td>\n",
       "      <td>NaN</td>\n",
       "      <td>104.350000</td>\n",
       "      <td>729784.20</td>\n",
       "      <td>-0.31000</td>\n",
       "      <td>85.7740</td>\n",
       "      <td>3903.6</td>\n",
       "      <td>NaN</td>\n",
       "      <td>-0.05840</td>\n",
       "      <td>7.2927</td>\n",
       "      <td>63.0</td>\n",
       "      <td>NaN</td>\n",
       "    </tr>\n",
       "    <tr>\n",
       "      <th>[2006-07-03, 2006-07-07]</th>\n",
       "      <td>NaN</td>\n",
       "      <td>633.60</td>\n",
       "      <td>42120.333333</td>\n",
       "      <td>2006-07-11</td>\n",
       "      <td>427008.0</td>\n",
       "      <td>NaN</td>\n",
       "      <td>104.597656</td>\n",
       "      <td>758073.25</td>\n",
       "      <td>-0.05200</td>\n",
       "      <td>84.9140</td>\n",
       "      <td>2144.8</td>\n",
       "      <td>NaN</td>\n",
       "      <td>-0.00610</td>\n",
       "      <td>7.1530</td>\n",
       "      <td>164.6</td>\n",
       "      <td>NaN</td>\n",
       "    </tr>\n",
       "  </tbody>\n",
       "</table>\n",
       "</div>"
      ],
      "text/plain": [
       "                          Gold_Change  Gold_Settle   Gold_Volume        Date  \\\n",
       "Business_Week                                                                  \n",
       "[2006-06-05, 2006-06-09]          NaN       623.46    474.400000  2006-06-13   \n",
       "[2006-06-12, 2006-06-16]          NaN       575.22    121.600000  2006-06-20   \n",
       "[2006-06-19, 2006-06-23]          NaN       580.04     20.600000  2006-06-27   \n",
       "[2006-06-26, 2006-06-30]          NaN       589.92  19187.400000  2006-07-03   \n",
       "[2006-07-03, 2006-07-07]          NaN       633.60  42120.333333  2006-07-11   \n",
       "\n",
       "                          Open Interest  Ten_Yr_Futures_Change  \\\n",
       "Business_Week                                                    \n",
       "[2006-06-05, 2006-06-09]       382474.0                    NaN   \n",
       "[2006-06-12, 2006-06-16]       390281.0                    NaN   \n",
       "[2006-06-19, 2006-06-23]       384321.0                    NaN   \n",
       "[2006-06-26, 2006-06-30]       392868.0                    NaN   \n",
       "[2006-07-03, 2006-07-07]       427008.0                    NaN   \n",
       "\n",
       "                          Ten_Yr_Futures_Settle  Ten_Yr_Futures_Volume  \\\n",
       "Business_Week                                                            \n",
       "[2006-06-05, 2006-06-09]             105.803125               62852.40   \n",
       "[2006-06-12, 2006-06-16]             105.478125               14248.40   \n",
       "[2006-06-19, 2006-06-23]             104.568750              294178.80   \n",
       "[2006-06-26, 2006-06-30]             104.350000              729784.20   \n",
       "[2006-07-03, 2006-07-07]             104.597656              758073.25   \n",
       "\n",
       "                          USD_Change  USD_Settle  USD_Volume  USD_Wave  \\\n",
       "Business_Week                                                            \n",
       "[2006-06-05, 2006-06-09]     0.34200     85.0620      5883.2       NaN   \n",
       "[2006-06-12, 2006-06-16]     0.04600     86.0820      4010.2       NaN   \n",
       "[2006-06-19, 2006-06-23]     0.30075     86.1412      3970.4       NaN   \n",
       "[2006-06-26, 2006-06-30]    -0.31000     85.7740      3903.6       NaN   \n",
       "[2006-07-03, 2006-07-07]    -0.05200     84.9140      2144.8       NaN   \n",
       "\n",
       "                          ZAR_Change  ZAR_Settle  ZAR_Volume  ZAR_Wave  \n",
       "Business_Week                                                           \n",
       "[2006-06-05, 2006-06-09]     0.01010      6.7417        29.8       NaN  \n",
       "[2006-06-12, 2006-06-16]     0.02590      6.8631        80.4       NaN  \n",
       "[2006-06-19, 2006-06-23]     0.10125      7.2100       314.5       NaN  \n",
       "[2006-06-26, 2006-06-30]    -0.05840      7.2927        63.0       NaN  \n",
       "[2006-07-03, 2006-07-07]    -0.00610      7.1530       164.6       NaN  "
      ]
     },
     "execution_count": 462,
     "metadata": {},
     "output_type": "execute_result"
    }
   ],
   "source": [
    "merged_list[0].head()"
   ]
  },
  {
   "cell_type": "code",
   "execution_count": null,
   "metadata": {},
   "outputs": [],
   "source": []
  }
 ],
 "metadata": {
  "kernelspec": {
   "display_name": "Python 3",
   "language": "python",
   "name": "python3"
  },
  "language_info": {
   "codemirror_mode": {
    "name": "ipython",
    "version": 3
   },
   "file_extension": ".py",
   "mimetype": "text/x-python",
   "name": "python",
   "nbconvert_exporter": "python",
   "pygments_lexer": "ipython3",
   "version": "3.7.1"
  }
 },
 "nbformat": 4,
 "nbformat_minor": 2
}
