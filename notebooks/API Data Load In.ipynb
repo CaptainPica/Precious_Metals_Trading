{
 "cells": [
  {
   "cell_type": "code",
   "execution_count": 1,
   "metadata": {},
   "outputs": [],
   "source": [
    "from requests import get\n",
    "import pandas as pd\n",
    "from API_Keys import quandl\n",
    "from datetime import datetime, timedelta"
   ]
  },
  {
   "cell_type": "markdown",
   "metadata": {},
   "source": [
    "# To add new data sources from Quandl\n",
    "Add your appropriately named URL in the cell below to the right group.\n",
    "\n",
    "Add that variable to the URL list at the end of the correct group\n",
    "\n",
    "Adjust range in cells that both merge them and also filter them to account for your addition\n",
    "\n",
    "For the renaming of merged columns, add your renaming schemata to the correct area.\n",
    "\n",
    "# This will fail if any step is messed up, or if the quandl data is organized differently than expected. This is hard to automate, potential issues can be expected.\n",
    "\n",
    "Also, if we need to keep different columns for new data, this will also break."
   ]
  },
  {
   "cell_type": "code",
   "execution_count": 2,
   "metadata": {},
   "outputs": [],
   "source": [
    "# Group 1, keep Change, Settle, Volume, Previous Day Open Interest\n",
    "CMEgold_futures = f\"https://www.quandl.com/api/v3/datasets/CHRIS/CME_GC1.json?api_key={quandl}\"\n",
    "CMEgold_futures2 = f\"https://www.quandl.com/api/v3/datasets/CHRIS/CME_GC2.json?api_key={quandl}\"\n",
    "CMEsilver_futures = f\"https://www.quandl.com/api/v3/datasets/CHRIS/CME_SI1.json?api_key={quandl}\"\n",
    "CMEsilver_futures2 = f\"https://www.quandl.com/api/v3/datasets/CHRIS/CME_SI2.json?api_key={quandl}\"\n",
    "CMEpalladium_futures = f\"https://www.quandl.com/api/v3/datasets/CHRIS/CME_PA1.json?api_key={quandl}\"\n",
    "CMEpalladium_futures2 = f\"https://www.quandl.com/api/v3/datasets/CHRIS/CME_PA2.json?api_key={quandl}\"\n",
    "CMEplatinum_futures = f\"https://www.quandl.com/api/v3/datasets/CHRIS/CME_PL1.json?api_key={quandl}\"\n",
    "CMEplatinum_futures2 = f\"https://www.quandl.com/api/v3/datasets/CHRIS/CME_PL2.json?api_key={quandl}\"\n",
    "CME_TenYear_futures = f\"https://www.quandl.com/api/v3/datasets/CHRIS/CME_TY1.json?api_key={quandl}\"\n",
    "CME_TenYear_futures2 = f\"https://www.quandl.com/api/v3/datasets/CHRIS/CME_TY2.json?api_key={quandl}\"\n",
    "\n",
    "#Group 2, keep Change, Settle, Wave, Volume, Prev. Day Open Interest\n",
    "ICE_USD_futures = f\"https://www.quandl.com/api/v3/datasets/CHRIS/ICE_DX1.json?api_key={quandl}\"\n",
    "ICE_USD_futures2 = f\"https://www.quandl.com/api/v3/datasets/CHRIS/ICE_DX2.json?api_key={quandl}\"\n",
    "ICE_ZAR_futures = f\"https://www.quandl.com/api/v3/datasets/CHRIS/ICE_ZR1.json?api_key={quandl}\"\n",
    "ICE_ZAR_futures2 = f\"https://www.quandl.com/api/v3/datasets/CHRIS/ICE_ZR2.json?api_key={quandl}\"\n",
    "# SGX_EuroD_futures = f\"https://www.quandl.com/api/v3/datasets/CHRIS/SGX_ED1.json?api_key={quandl}\"\n",
    "\n",
    "#Group 3, keep Open Interest, last one on list also decides cut off date.\n",
    "# Last one needs to be shortest weekly separation\n",
    "Gold_OpenInt = f\"https://www.quandl.com/api/v3/datasets/CFTC/088691_FO_ALL.json?api_key={quandl}\"\n",
    "Silver_OpenInt = f\"https://www.quandl.com/api/v3/datasets/CFTC/084691_FO_ALL.json?api_key={quandl}\"\n",
    "Palladium_OpenInt = f\"https://www.quandl.com/api/v3/datasets/CFTC/075651_FO_ALL.json?api_key={quandl}\"\n",
    "Platinum_OpenInt = f\"https://www.quandl.com/api/v3/datasets/CFTC/076651_FO_ALL.json?api_key={quandl}\""
   ]
  },
  {
   "cell_type": "code",
   "execution_count": 3,
   "metadata": {},
   "outputs": [],
   "source": [
    "url_list = [CMEgold_futures,CMEgold_futures2,CMEsilver_futures,CMEsilver_futures2,CMEpalladium_futures,CMEpalladium_futures2,CMEplatinum_futures,CMEplatinum_futures2,CME_TenYear_futures,CME_TenYear_futures2,ICE_USD_futures,ICE_USD_futures2,ICE_ZAR_futures,ICE_ZAR_futures2,Gold_OpenInt,Silver_OpenInt,Palladium_OpenInt,Platinum_OpenInt]"
   ]
  },
  {
   "cell_type": "code",
   "execution_count": 4,
   "metadata": {},
   "outputs": [],
   "source": [
    "info_list = [get(url).json() for url in url_list]"
   ]
  },
  {
   "cell_type": "code",
   "execution_count": 43,
   "metadata": {},
   "outputs": [],
   "source": [
    "df_list = [pd.DataFrame(info[\"dataset\"][\"data\"],columns=info[\"dataset\"][\"column_names\"]) for info in info_list]\n",
    "for i in range(1,6):\n",
    "    df_list[i-1][\"Previous Day Open Interest\"] += df_list[i][\"Previous Day Open Interest\"]\n",
    "    df_list.pop(i)\n",
    "for i in range(6,8):\n",
    "    df_list[i-1][\"Prev. Day Open Interest\"] += df_list[i][\"Prev. Day Open Interest\"]\n",
    "    df_list.pop(i)"
   ]
  },
  {
   "cell_type": "code",
   "execution_count": 44,
   "metadata": {},
   "outputs": [],
   "source": [
    "# Creates a list that functions well in testing\n",
    "pruned_list = [None]*11"
   ]
  },
  {
   "cell_type": "code",
   "execution_count": 45,
   "metadata": {},
   "outputs": [],
   "source": [
    "# Cell to prune Group 1\n",
    "metal_namer = {0:\"Gold\",1:\"Silver\",2:\"Palladium\",3:\"Platinum\",4:\"Ten_Yr_Futures\"}\n",
    "for i in range(5):\n",
    "    pruned_list[i] = df_list[i][[\"Date\",\"Change\",\"Settle\",\"Volume\",\"Previous Day Open Interest\"]]\n",
    "    pruned_list[i].columns = [\"Date\",f\"{metal_namer[i]}_Change\",f\"{metal_namer[i]}_Settle\",f\"{metal_namer[i]}_Volume\",f\"{metal_namer[i]}_Prev. Day Open Interest\"]"
   ]
  },
  {
   "cell_type": "code",
   "execution_count": 46,
   "metadata": {},
   "outputs": [],
   "source": [
    "# Cell to prune Group 2\n",
    "money_namer = {5:\"USD\",6:\"ZAR\"}\n",
    "for i in range(5,7):\n",
    "    pruned_list[i] = df_list[i][[\"Date\",\"Change\",\"Settle\",\"Volume\",\"Wave\",\"Prev. Day Open Interest\"]]\n",
    "    pruned_list[i].columns = [\"Date\",f\"{money_namer[i]}_Change\",f\"{money_namer[i]}_Settle\",f\"{money_namer[i]}_Volume\",f\"{money_namer[i]}_Wave\",f\"{money_namer[i]}_Prev. Day Open Interest\"]"
   ]
  },
  {
   "cell_type": "code",
   "execution_count": 47,
   "metadata": {},
   "outputs": [],
   "source": [
    "for i in range(7,11):\n",
    "    pruned_list[i] = df_list[i][[\"Date\",\"Open Interest\",\"Money Manager Shorts\",\"Money Manager Longs\",\"Producer/Merchant/Processor/User Longs\",\"Producer/Merchant/Processor/User Shorts\"]]"
   ]
  },
  {
   "cell_type": "code",
   "execution_count": 72,
   "metadata": {},
   "outputs": [],
   "source": [
    "# Only works for days that are Tuesday releases on their latest and most recent\n",
    "# will need to add code to adjust for late releases because of Holidays\n",
    "cut_off_date = df_list[len(df_list)-1][\"Date\"][len(df_list[len(df_list)-1].index)-1]\n",
    "cut_off_date = (datetime.strptime(cut_off_date,\"%Y-%m-%d\") - timedelta(days=6))\n",
    "cut_off_date = cut_off_date.strftime(\"%Y-%m-%d\")\n",
    "# recent_off_date = df_list[len(df_list)-1][\"Date\"][0]\n",
    "# recent_off_date = (datetime.strptime(recent_off_date,\"%Y-%m-%d\") - timedelta(days=4))\n",
    "# recent_off_date = recent_off_date.strftime(\"%Y-%m-%d\")"
   ]
  },
  {
   "cell_type": "code",
   "execution_count": 73,
   "metadata": {},
   "outputs": [
    {
     "data": {
      "text/plain": [
       "'2006-06-07'"
      ]
     },
     "execution_count": 73,
     "metadata": {},
     "output_type": "execute_result"
    }
   ],
   "source": [
    "cut_off_date"
   ]
  },
  {
   "cell_type": "code",
   "execution_count": 50,
   "metadata": {},
   "outputs": [],
   "source": [
    "for i in range(7):\n",
    "    pruned_list[i] = pruned_list[i].loc[pruned_list[i][\"Date\"]>=cut_off_date]\n",
    "#     pruned_list[i] = pruned_list[i].loc[pruned_list[i][\"Date\"]<=recent_off_date]"
   ]
  },
  {
   "cell_type": "code",
   "execution_count": 65,
   "metadata": {},
   "outputs": [],
   "source": [
    "grouped_list = [None]*7\n",
    "tuple_list = [[(datetime.strptime(cut_off_date,\"%Y-%m-%d\")+timedelta(days=(w*7))),(datetime.strptime(cut_off_date,\"%Y-%m-%d\")+timedelta(days=(w*7 + 6)))] for w in range(len(df_list[len(df_list)-1].index))]\n",
    "# tuple_list = [x if x[0].weekday() == 1 else [x[0]+timedelta(days=1),x[1]+timedelta(days=1)] for x in tuple_list]\n",
    "# tuple_list = [tuple(x) if x[0].weekday() == 1 else (x[0]+timedelta(days=1),x[1]+timedelta(days=1)) for x in tuple_list]\n",
    "# cut_bins = pd.IntervalIndex.from_tuples(tuple_list,closed=\"both\")"
   ]
  },
  {
   "cell_type": "code",
   "execution_count": 71,
   "metadata": {},
   "outputs": [
    {
     "data": {
      "text/plain": [
       "datetime.datetime(2006, 6, 10, 0, 0)"
      ]
     },
     "execution_count": 71,
     "metadata": {},
     "output_type": "execute_result"
    }
   ],
   "source": [
    "tuple_list[0][1]"
   ]
  },
  {
   "cell_type": "code",
   "execution_count": 58,
   "metadata": {},
   "outputs": [],
   "source": [
    "for bin_candidate in range(7):\n",
    "    agg_dic = {column:(\"sum\" if \"change\" in column.lower() else \"mean\") for column in list(pruned_list[bin_candidate].columns)}\n",
    "    agg_dic.pop(\"Date\")\n",
    "    bins = pd.cut(pruned_list[bin_candidate][\"Date\"],cut_bins)\n",
    "    grouped_list[bin_candidate] = pruned_list[bin_candidate].groupby(bins).agg(agg_dic)\n",
    "    grouped_list[bin_candidate] = grouped_list[bin_candidate].assign(Date=list(pruned_list[len(pruned_list)-1][\"Date\"].iloc[::-1]))\n",
    "    grouped_list[bin_candidate].index.names = [\"Business_Week\"]"
   ]
  },
  {
   "cell_type": "code",
   "execution_count": 59,
   "metadata": {},
   "outputs": [],
   "source": [
    "merged_list = [grouped_list[i].\\\n",
    "    merge(pruned_list[7+i], on = \"Date\", how = \"inner\").\\\n",
    "    merge(grouped_list[4], on = \"Date\", how = \"inner\").\\\n",
    "    merge(grouped_list[5], on = \"Date\", how = \"inner\").\\\n",
    "    merge(grouped_list[6], on = \"Date\", how = \"inner\").\\\n",
    "    set_index(grouped_list[i].index) for i in range(4)]"
   ]
  },
  {
   "cell_type": "code",
   "execution_count": 60,
   "metadata": {},
   "outputs": [
    {
     "data": {
      "text/html": [
       "<div>\n",
       "<style scoped>\n",
       "    .dataframe tbody tr th:only-of-type {\n",
       "        vertical-align: middle;\n",
       "    }\n",
       "\n",
       "    .dataframe tbody tr th {\n",
       "        vertical-align: top;\n",
       "    }\n",
       "\n",
       "    .dataframe thead th {\n",
       "        text-align: right;\n",
       "    }\n",
       "</style>\n",
       "<table border=\"1\" class=\"dataframe\">\n",
       "  <thead>\n",
       "    <tr style=\"text-align: right;\">\n",
       "      <th></th>\n",
       "      <th>Gold_Change</th>\n",
       "      <th>Gold_Settle</th>\n",
       "      <th>Gold_Volume</th>\n",
       "      <th>Gold_Prev. Day Open Interest</th>\n",
       "      <th>Date</th>\n",
       "      <th>Open Interest</th>\n",
       "      <th>Money Manager Shorts</th>\n",
       "      <th>Money Manager Longs</th>\n",
       "      <th>Producer/Merchant/Processor/User Longs</th>\n",
       "      <th>Producer/Merchant/Processor/User Shorts</th>\n",
       "      <th>...</th>\n",
       "      <th>USD_Change</th>\n",
       "      <th>USD_Settle</th>\n",
       "      <th>USD_Volume</th>\n",
       "      <th>USD_Wave</th>\n",
       "      <th>USD_Prev. Day Open Interest</th>\n",
       "      <th>ZAR_Change</th>\n",
       "      <th>ZAR_Settle</th>\n",
       "      <th>ZAR_Volume</th>\n",
       "      <th>ZAR_Wave</th>\n",
       "      <th>ZAR_Prev. Day Open Interest</th>\n",
       "    </tr>\n",
       "    <tr>\n",
       "      <th>Business_Week</th>\n",
       "      <th></th>\n",
       "      <th></th>\n",
       "      <th></th>\n",
       "      <th></th>\n",
       "      <th></th>\n",
       "      <th></th>\n",
       "      <th></th>\n",
       "      <th></th>\n",
       "      <th></th>\n",
       "      <th></th>\n",
       "      <th></th>\n",
       "      <th></th>\n",
       "      <th></th>\n",
       "      <th></th>\n",
       "      <th></th>\n",
       "      <th></th>\n",
       "      <th></th>\n",
       "      <th></th>\n",
       "      <th></th>\n",
       "      <th></th>\n",
       "      <th></th>\n",
       "    </tr>\n",
       "  </thead>\n",
       "  <tbody>\n",
       "    <tr>\n",
       "      <th>[2006-06-06, 2006-06-12]</th>\n",
       "      <td>0.0</td>\n",
       "      <td>616.18</td>\n",
       "      <td>355.6</td>\n",
       "      <td>189796.6</td>\n",
       "      <td>2006-06-13</td>\n",
       "      <td>382474.0</td>\n",
       "      <td>30916.0</td>\n",
       "      <td>103211.0</td>\n",
       "      <td>42587.0</td>\n",
       "      <td>128892.0</td>\n",
       "      <td>...</td>\n",
       "      <td>1.74</td>\n",
       "      <td>85.41</td>\n",
       "      <td>7822.0</td>\n",
       "      <td>NaN</td>\n",
       "      <td>39002.4</td>\n",
       "      <td>0.1105</td>\n",
       "      <td>6.7638</td>\n",
       "      <td>63.8</td>\n",
       "      <td>NaN</td>\n",
       "      <td>2325.8</td>\n",
       "    </tr>\n",
       "  </tbody>\n",
       "</table>\n",
       "<p>1 rows × 24 columns</p>\n",
       "</div>"
      ],
      "text/plain": [
       "                          Gold_Change  Gold_Settle  Gold_Volume  \\\n",
       "Business_Week                                                     \n",
       "[2006-06-06, 2006-06-12]          0.0       616.18        355.6   \n",
       "\n",
       "                          Gold_Prev. Day Open Interest        Date  \\\n",
       "Business_Week                                                        \n",
       "[2006-06-06, 2006-06-12]                      189796.6  2006-06-13   \n",
       "\n",
       "                          Open Interest  Money Manager Shorts  \\\n",
       "Business_Week                                                   \n",
       "[2006-06-06, 2006-06-12]       382474.0               30916.0   \n",
       "\n",
       "                          Money Manager Longs  \\\n",
       "Business_Week                                   \n",
       "[2006-06-06, 2006-06-12]             103211.0   \n",
       "\n",
       "                          Producer/Merchant/Processor/User Longs  \\\n",
       "Business_Week                                                      \n",
       "[2006-06-06, 2006-06-12]                                 42587.0   \n",
       "\n",
       "                          Producer/Merchant/Processor/User Shorts  \\\n",
       "Business_Week                                                       \n",
       "[2006-06-06, 2006-06-12]                                 128892.0   \n",
       "\n",
       "                                     ...               USD_Change  USD_Settle  \\\n",
       "Business_Week                        ...                                        \n",
       "[2006-06-06, 2006-06-12]             ...                     1.74       85.41   \n",
       "\n",
       "                          USD_Volume  USD_Wave  USD_Prev. Day Open Interest  \\\n",
       "Business_Week                                                                 \n",
       "[2006-06-06, 2006-06-12]      7822.0       NaN                      39002.4   \n",
       "\n",
       "                          ZAR_Change  ZAR_Settle  ZAR_Volume  ZAR_Wave  \\\n",
       "Business_Week                                                            \n",
       "[2006-06-06, 2006-06-12]      0.1105      6.7638        63.8       NaN   \n",
       "\n",
       "                          ZAR_Prev. Day Open Interest  \n",
       "Business_Week                                          \n",
       "[2006-06-06, 2006-06-12]                       2325.8  \n",
       "\n",
       "[1 rows x 24 columns]"
      ]
     },
     "execution_count": 60,
     "metadata": {},
     "output_type": "execute_result"
    }
   ],
   "source": [
    "merged_list[0].head(1)"
   ]
  },
  {
   "cell_type": "code",
   "execution_count": 35,
   "metadata": {},
   "outputs": [
    {
     "data": {
      "text/plain": [
       "136"
      ]
     },
     "execution_count": 35,
     "metadata": {},
     "output_type": "execute_result"
    }
   ],
   "source": [
    "len(merged_list[0].dropna().index)"
   ]
  },
  {
   "cell_type": "code",
   "execution_count": 36,
   "metadata": {},
   "outputs": [],
   "source": [
    "merged_list[0].to_csv(\"../data/csv/Gold_Data.csv\")\n",
    "merged_list[1].to_csv(\"../data/csv/Silver_Data.csv\")\n",
    "merged_list[2].to_csv(\"../data/csv/Palladium_Data.csv\")\n",
    "merged_list[3].to_csv(\"../data/csv/Platinum_Data.csv\")"
   ]
  },
  {
   "cell_type": "code",
   "execution_count": null,
   "metadata": {},
   "outputs": [],
   "source": []
  },
  {
   "cell_type": "code",
   "execution_count": null,
   "metadata": {},
   "outputs": [],
   "source": []
  }
 ],
 "metadata": {
  "kernelspec": {
   "display_name": "Python 3",
   "language": "python",
   "name": "python3"
  },
  "language_info": {
   "codemirror_mode": {
    "name": "ipython",
    "version": 3
   },
   "file_extension": ".py",
   "mimetype": "text/x-python",
   "name": "python",
   "nbconvert_exporter": "python",
   "pygments_lexer": "ipython3",
   "version": "3.7.1"
  }
 },
 "nbformat": 4,
 "nbformat_minor": 2
}
