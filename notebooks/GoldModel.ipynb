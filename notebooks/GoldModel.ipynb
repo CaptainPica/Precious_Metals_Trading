{
 "cells": [
  {
   "cell_type": "code",
   "execution_count": 40,
   "metadata": {},
   "outputs": [],
   "source": [
    "#Dependencies\n",
    "import requests\n",
    "import json\n",
    "import pandas as pd\n",
    "import numpy as np\n",
    "import matplotlib.pyplot as plt\n",
    "from sklearn import tree"
   ]
  },
  {
   "cell_type": "code",
   "execution_count": 41,
   "metadata": {},
   "outputs": [],
   "source": [
    "#creating gold prices DF\n",
    "\n",
    "Prices_df = pd.read_csv(r\"C:\\Users\\Dell\\Desktop\\Models\\ML\\Gold_Prices.csv\")"
   ]
  },
  {
   "cell_type": "code",
   "execution_count": 42,
   "metadata": {},
   "outputs": [],
   "source": [
    "#creating gold CFTC DF\n",
    "\n",
    "CFTC_df = pd.read_csv(r\"C:\\Users\\Dell\\Desktop\\Models\\ML\\Gold_CFTC.csv\")"
   ]
  },
  {
   "cell_type": "code",
   "execution_count": 43,
   "metadata": {},
   "outputs": [],
   "source": [
    "# raw merge of the data\n",
    "\n",
    "merge_df = pd.merge(Prices_df, CFTC_df, left_on=['Date'],right_on=['Date'], how='inner')"
   ]
  },
  {
   "cell_type": "code",
   "execution_count": 44,
   "metadata": {},
   "outputs": [
    {
     "data": {
      "text/html": [
       "<div>\n",
       "<style scoped>\n",
       "    .dataframe tbody tr th:only-of-type {\n",
       "        vertical-align: middle;\n",
       "    }\n",
       "\n",
       "    .dataframe tbody tr th {\n",
       "        vertical-align: top;\n",
       "    }\n",
       "\n",
       "    .dataframe thead th {\n",
       "        text-align: right;\n",
       "    }\n",
       "</style>\n",
       "<table border=\"1\" class=\"dataframe\">\n",
       "  <thead>\n",
       "    <tr style=\"text-align: right;\">\n",
       "      <th></th>\n",
       "      <th>Date</th>\n",
       "      <th>Settle</th>\n",
       "      <th>Open Interest</th>\n",
       "      <th>Money Manager Longs</th>\n",
       "      <th>Money Manager Shorts</th>\n",
       "    </tr>\n",
       "  </thead>\n",
       "  <tbody>\n",
       "    <tr>\n",
       "      <th>0</th>\n",
       "      <td>7/16/2019</td>\n",
       "      <td>1411.2</td>\n",
       "      <td>1038695</td>\n",
       "      <td>248138</td>\n",
       "      <td>28250</td>\n",
       "    </tr>\n",
       "    <tr>\n",
       "      <th>1</th>\n",
       "      <td>7/9/2019</td>\n",
       "      <td>1400.5</td>\n",
       "      <td>1010098</td>\n",
       "      <td>241396</td>\n",
       "      <td>24254</td>\n",
       "    </tr>\n",
       "    <tr>\n",
       "      <th>2</th>\n",
       "      <td>7/2/2019</td>\n",
       "      <td>1408.0</td>\n",
       "      <td>1031393</td>\n",
       "      <td>258490</td>\n",
       "      <td>17327</td>\n",
       "    </tr>\n",
       "    <tr>\n",
       "      <th>3</th>\n",
       "      <td>6/25/2019</td>\n",
       "      <td>1414.9</td>\n",
       "      <td>1014917</td>\n",
       "      <td>255572</td>\n",
       "      <td>25908</td>\n",
       "    </tr>\n",
       "    <tr>\n",
       "      <th>4</th>\n",
       "      <td>6/18/2019</td>\n",
       "      <td>1346.6</td>\n",
       "      <td>858867</td>\n",
       "      <td>216650</td>\n",
       "      <td>26969</td>\n",
       "    </tr>\n",
       "  </tbody>\n",
       "</table>\n",
       "</div>"
      ],
      "text/plain": [
       "        Date  Settle  Open Interest  Money Manager Longs  Money Manager Shorts\n",
       "0  7/16/2019  1411.2        1038695               248138                 28250\n",
       "1   7/9/2019  1400.5        1010098               241396                 24254\n",
       "2   7/2/2019  1408.0        1031393               258490                 17327\n",
       "3  6/25/2019  1414.9        1014917               255572                 25908\n",
       "4  6/18/2019  1346.6         858867               216650                 26969"
      ]
     },
     "execution_count": 44,
     "metadata": {},
     "output_type": "execute_result"
    }
   ],
   "source": [
    "#cleaned up df\n",
    "\n",
    "clean_df = merge_df[['Date','Settle','Open Interest','Money Manager Longs','Money Manager Shorts']].copy()\n",
    "\n",
    "clean_df.head()"
   ]
  },
  {
   "cell_type": "code",
   "execution_count": null,
   "metadata": {},
   "outputs": [],
   "source": []
  },
  {
   "cell_type": "code",
   "execution_count": null,
   "metadata": {},
   "outputs": [],
   "source": []
  }
 ],
 "metadata": {
  "kernelspec": {
   "display_name": "Python 3",
   "language": "python",
   "name": "python3"
  },
  "language_info": {
   "codemirror_mode": {
    "name": "ipython",
    "version": 3
   },
   "file_extension": ".py",
   "mimetype": "text/x-python",
   "name": "python",
   "nbconvert_exporter": "python",
   "pygments_lexer": "ipython3",
   "version": "3.7.1"
  }
 },
 "nbformat": 4,
 "nbformat_minor": 2
}
