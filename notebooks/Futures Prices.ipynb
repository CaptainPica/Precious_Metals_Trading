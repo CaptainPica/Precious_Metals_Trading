{
 "cells": [
  {
   "cell_type": "code",
   "execution_count": 1,
   "metadata": {},
   "outputs": [],
   "source": [
    "from requests import get\n",
    "import pandas as pd\n",
    "from API_Keys import quandl\n",
    "import json\n",
    "import numpy as np\n",
    "import matplotlib.pyplot as plt\n",
    "from sklearn import tree"
   ]
  },
  {
   "cell_type": "code",
   "execution_count": 39,
   "metadata": {},
   "outputs": [],
   "source": [
    "CMEgold_futures_url = f\"https://www.quandl.com/api/v3/datasets/CHRIS/CME_GC1.json?api_key={quandl}\"\n",
    "CMEsilver_futures_url = f\"https://www.quandl.com/api/v3/datasets/CHRIS/CME_SI1.json?api_key={quandl}\"\n",
    "CMEpalladium_futures_url = f\"https://www.quandl.com/api/v3/datasets/CHRIS/CME_PA1.json?api_key={quandl}\"\n",
    "CMEplatinum_futures_url = f\"https://www.quandl.com/api/v3/datasets/CHRIS/CME_PL1.json?api_key={quandl}\"\n",
    "ICE_USD_futures_url = f\"https://www.quandl.com/api/v3/datasets/CHRIS/ICE_DX1.json?api_key={quandl}\"\n",
    "ICE_ZAR_futures_url = f\"https://www.quandl.com/api/v3/datasets/CHRIS/ICE_ZR1.json?api_key={quandl}\"\n",
    "CME_TenYear_futures_url = f\"https://www.quandl.com/api/v3/datasets/CHRIS/CME_TY1.json?api_key={quandl}\"\n",
    "SGX_EuroD_futures_url = f\"https://www.quandl.com/api/v3/datasets/CHRIS/SGX_ED1.json?api_key={quandl}\"\n",
    "Gold_OpenInt_url = f\"https://www.quandl.com/api/v3/datasets/CFTC/088691_FO_ALL.json?api_key={quandl}\"\n",
    "Silver_OpenInt_url = f\"https://www.quandl.com/api/v3/datasets/CFTC/084691_FO_ALL.json?api_key={quandl}\"\n",
    "Palladium_OpenInt_url = f\"https://www.quandl.com/api/v3/datasets/CFTC/075651_FO_ALL.json?api_key={quandl}\"\n",
    "Platinum_OpenInt_url = f\"https://www.quandl.com/api/v3/datasets/CFTC/077651_FO_ALL.json?api_key={quandl}\""
   ]
  },
  {
   "cell_type": "code",
   "execution_count": 40,
   "metadata": {},
   "outputs": [],
   "source": [
    "cme_gold_futures = get(CMEgold_futures_url)\n",
    "cme_silver_futures = get(CMEsilver_futures_url)\n",
    "cme_palladium_futures = get(CMEpalladium_futures_url)\n",
    "cme_platinum_futures = get(CMEplatinum_futures_url)\n",
    "ice_usd_futures = get(ICE_USD_futures_url)\n",
    "ice_usdzar_futures = get(ICE_ZAR_futures_url)\n",
    "cme_tenyear_futures = get(CME_TenYear_futures_url)\n",
    "sgx_eurodollar_futures = get(SGX_EuroD_futures_url)\n",
    "Gold_OpenInt = get(Gold_OpenInt_url)\n",
    "Silver_OpenInt = get(Silver_OpenInt_url)\n",
    "Palladium_OpenInt = get(Palladium_OpenInt_url)\n",
    "Platinum_OpenInt = get(Platinum_OpenInt_url)"
   ]
  },
  {
   "cell_type": "code",
   "execution_count": 41,
   "metadata": {},
   "outputs": [],
   "source": [
    "cme_gold_futures = cme_gold_futures.json()\n",
    "cme_silver_futures = cme_silver_futures.json()\n",
    "cme_palladium_futures = cme_palladium_futures.json()\n",
    "cme_platinum_futures = cme_platinum_futures.json()\n",
    "ice_usd_futures = ice_usd_futures.json()\n",
    "ice_usdzar_futures = ice_usdzar_futures.json()\n",
    "cme_tenyear_futures = cme_tenyear_futures.json()\n",
    "sgx_eurodollar_futures = sgx_eurodollar_futures.json()\n",
    "Gold_OpenInt = Gold_OpenInt.json()\n",
    "Silver_OpenInt = Silver_OpenInt.json()\n",
    "Palladium_OpenInt = Palladium_OpenInt.json()\n",
    "Platinum_OpenInt = Platinum_OpenInt.json()"
   ]
  },
  {
   "cell_type": "code",
   "execution_count": 35,
   "metadata": {},
   "outputs": [],
   "source": [
    "gold_df = pd.DataFrame(cme_gold_futures[\"dataset\"][\"data\"],columns=cme_gold_futures[\"dataset\"][\"column_names\"])\n",
    "silver_df = pd.DataFrame(cme_silver_futures[\"dataset\"][\"data\"],columns=cme_silver_futures[\"dataset\"][\"column_names\"])\n",
    "palladium_df = pd.DataFrame(cme_palladium_futures[\"dataset\"][\"data\"],columns=cme_palladium_futures[\"dataset\"][\"column_names\"])\n",
    "platinum_df = pd.DataFrame(cme_platinum_futures[\"dataset\"][\"data\"],columns=cme_platinum_futures[\"dataset\"][\"column_names\"])\n",
    "usd_df = pd.DataFrame(ice_usd_futures[\"dataset\"][\"data\"],columns=ice_usd_futures[\"dataset\"][\"column_names\"])\n",
    "usdzar_df = pd.DataFrame(ice_usdzar_futures[\"dataset\"][\"data\"],columns=ice_usdzar_futures[\"dataset\"][\"column_names\"])\n",
    "tenyear_df = pd.DataFrame(cme_tenyear_futures[\"dataset\"][\"data\"],columns=cme_tenyear_futures[\"dataset\"][\"column_names\"])\n",
    "eurodollar_df = pd.DataFrame(sgx_eurodollar_futures[\"dataset\"][\"data\"],columns=sgx_eurodollar_futures[\"dataset\"][\"column_names\"])\n",
    "goldOI_df = pd.DataFrame(Gold_OpenInt[\"dataset\"][\"data\"],columns=Gold_OpenInt[\"dataset\"][\"column_names\"])\n",
    "silverOI_df = pd.DataFrame(Silver_OpenInt[\"dataset\"][\"data\"],columns=Silver_OpenInt[\"dataset\"][\"column_names\"])\n",
    "palladiumOI_df = pd.DataFrame(Palladium_OpenInt[\"dataset\"][\"data\"],columns=Palladium_OpenInt[\"dataset\"][\"column_names\"])\n",
    "platinumOI_df = pd.DataFrame(Platinum_OpenInt[\"dataset\"][\"data\"],columns=Platinum_OpenInt[\"dataset\"][\"column_names\"])\n"
   ]
  },
  {
   "cell_type": "code",
   "execution_count": 36,
   "metadata": {},
   "outputs": [
    {
     "name": "stdout",
     "output_type": "stream",
     "text": [
      "11187\n",
      "14064\n",
      "10601\n",
      "12693\n",
      "8597\n",
      "3973\n",
      "9370\n",
      "1325\n"
     ]
    }
   ],
   "source": [
    "print(len(gold_df.index))\n",
    "print(len(silver_df.index))\n",
    "print(len(palladium_df.index))\n",
    "print(len(platinum_df.index))\n",
    "print(len(usd_df.index))\n",
    "print(len(usdzar_df.index))\n",
    "print(len(tenyear_df.index))\n",
    "print(len(eurodollar_df.index))\n",
    "print(len(goldOI_df.index))\n",
    "print(len(silverOI_df.index))\n",
    "print(len(palladiumOI_df.index))\n",
    "print(len(platinumOI_df.index))"
   ]
  },
  {
   "cell_type": "code",
   "execution_count": null,
   "metadata": {},
   "outputs": [],
   "source": [
    "#g_data = g_futures_df.merge(g_options_df, on = \"Date\", how = \"inner\")\n",
    "#g_data = g_data[[\"Date\",\"Settle\",\"Open Interest\",\"Money Manager Longs\",\"Money Manager Shorts\"]]\n",
    "#print(len(g_data.index))\n",
    "#g_data.head()"
   ]
  }
 ],
 "metadata": {
  "kernelspec": {
   "display_name": "Python 3",
   "language": "python",
   "name": "python3"
  },
  "language_info": {
   "codemirror_mode": {
    "name": "ipython",
    "version": 3
   },
   "file_extension": ".py",
   "mimetype": "text/x-python",
   "name": "python",
   "nbconvert_exporter": "python",
   "pygments_lexer": "ipython3",
   "version": "3.7.1"
  }
 },
 "nbformat": 4,
 "nbformat_minor": 2
}
